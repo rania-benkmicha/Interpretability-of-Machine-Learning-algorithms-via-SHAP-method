{
  "cells": [
    {
      "cell_type": "markdown",
      "metadata": {
        "id": "8s-Vt3AOdRjv"
      },
      "source": [
        "# Interpretability of Machine Learning algorithms @ 2021\n",
        "  ### Mohamed Ibn Khedher & Mounim A. El-Yacoubi"
      ]
    },
    {
      "cell_type": "markdown",
      "metadata": {
        "id": "Q8BkpM_Mf23W"
      },
      "source": [
        "**SHAP (SHapley Additive exPlanations)**\n",
        "\n",
        "SHAP (SHapley Additive exPlanations) by Lundberg and Lee (2016) [1] is a method to explain individual predictions. SHAP is based on the game theoretically optimal Shapley Values.\n",
        "\n",
        "The goal of SHAP is to explain the prediction of an instance x by computing the contribution of each feature to the prediction. The SHAP explanation method computes Shapley values from coalitional game theory. The feature values of a data instance act as players in a coalition. Shapley values tell us how to fairly distribute the “payout” (= the prediction) among the features. A player can be an individual feature value, e.g. for tabular data. A player can also be a group of feature values. For example to explain an image, pixels can be grouped to super pixels and the prediction distributed among them. One innovation that SHAP brings to the table is that the Shapley value explanation is represented as an additive feature attribution method, a linear model. That view connects LIME and Shapley Values. SHAP specifies the explanation as:\n",
        "![Sans titre.png](data:image/png;base64,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)\n",
        "\n",
        "For more information about the technique SHAP and its variants, we invite you to consult the reference [2].\n",
        "\n",
        "[1] Lundberg, Scott M., and Su-In Lee. “A unified approach to interpreting model predictions.” Advances in Neural Information Processing Systems. 2017.\n",
        "\n",
        "[2]  https://christophm.github.io/interpretable-ml-book/shap.html#fn69"
      ]
    },
    {
      "cell_type": "markdown",
      "metadata": {
        "id": "dYSW5VO83EKr"
      },
      "source": [
        "# The objective of this lab is to interpret the decisions taken by Machine Learning algorithms using the SHAP technique. We are studying the application of detecting whether the patient has alzhemer's disease or not.\n",
        "\n",
        "\n",
        "## We considered the following ML algorithms\n",
        "### 1. Decision Tree ([DT](https://scikit-learn.org/stable/modules/tree.html))\n",
        "### 1. Random Forest ([RF](https://scikit-learn.org/stable/modules/ensemble.html))\n",
        "### 3. XGBoost ([XGB](https://xgboost.readthedocs.io/en/latest/python/index.html))\n",
        "### 4. Deep Learning (DL)\n",
        "\n",
        "\n",
        "### **The first step before launching the notebook, it would be necessary manually upload the attached database file \"oasis_longitudinal.csv\" on colab.**\n",
        "\n",
        "##**TODO:**\n",
        "#### **shape_value is a matrix, the first matrix corresponding to the label to be explained and the second dimension corresponding to the input in the dataset.**\n",
        "##### **For each classifier**\n",
        "##### **1. Show and interpret the local explanation of some dataset inputs using shape_value[xxx][xxx]**\n",
        "#### **2. Interpret the global explanation (over the entire dataset) already computed in this lab.**"
      ]
    },
    {
      "cell_type": "markdown",
      "metadata": {
        "id": "sVNanhvB3EK0"
      },
      "source": [
        "## Import the needed packages"
      ]
    },
    {
      "cell_type": "code",
      "execution_count": null,
      "metadata": {
        "colab": {
          "base_uri": "https://localhost:8080/"
        },
        "id": "-HwdBuj53EK1",
        "outputId": "abea1096-9462-450d-a2c5-dbb39eb3da80"
      },
      "outputs": [
        {
          "output_type": "stream",
          "name": "stdout",
          "text": [
            "Looking in indexes: https://pypi.org/simple, https://us-python.pkg.dev/colab-wheels/public/simple/\n",
            "Requirement already satisfied: shap in /usr/local/lib/python3.8/dist-packages (0.41.0)\n",
            "Requirement already satisfied: slicer==0.0.7 in /usr/local/lib/python3.8/dist-packages (from shap) (0.0.7)\n",
            "Requirement already satisfied: numba in /usr/local/lib/python3.8/dist-packages (from shap) (0.56.4)\n",
            "Requirement already satisfied: packaging>20.9 in /usr/local/lib/python3.8/dist-packages (from shap) (21.3)\n",
            "Requirement already satisfied: scikit-learn in /usr/local/lib/python3.8/dist-packages (from shap) (1.0.2)\n",
            "Requirement already satisfied: pandas in /usr/local/lib/python3.8/dist-packages (from shap) (1.3.5)\n",
            "Requirement already satisfied: cloudpickle in /usr/local/lib/python3.8/dist-packages (from shap) (2.2.0)\n",
            "Requirement already satisfied: scipy in /usr/local/lib/python3.8/dist-packages (from shap) (1.7.3)\n",
            "Requirement already satisfied: numpy in /usr/local/lib/python3.8/dist-packages (from shap) (1.21.6)\n",
            "Requirement already satisfied: tqdm>4.25.0 in /usr/local/lib/python3.8/dist-packages (from shap) (4.64.1)\n",
            "Requirement already satisfied: pyparsing!=3.0.5,>=2.0.2 in /usr/local/lib/python3.8/dist-packages (from packaging>20.9->shap) (3.0.9)\n",
            "Requirement already satisfied: llvmlite<0.40,>=0.39.0dev0 in /usr/local/lib/python3.8/dist-packages (from numba->shap) (0.39.1)\n",
            "Requirement already satisfied: setuptools in /usr/local/lib/python3.8/dist-packages (from numba->shap) (57.4.0)\n",
            "Requirement already satisfied: importlib-metadata in /usr/local/lib/python3.8/dist-packages (from numba->shap) (6.0.0)\n",
            "Requirement already satisfied: pytz>=2017.3 in /usr/local/lib/python3.8/dist-packages (from pandas->shap) (2022.7)\n",
            "Requirement already satisfied: python-dateutil>=2.7.3 in /usr/local/lib/python3.8/dist-packages (from pandas->shap) (2.8.2)\n",
            "Requirement already satisfied: threadpoolctl>=2.0.0 in /usr/local/lib/python3.8/dist-packages (from scikit-learn->shap) (3.1.0)\n",
            "Requirement already satisfied: joblib>=0.11 in /usr/local/lib/python3.8/dist-packages (from scikit-learn->shap) (1.2.0)\n",
            "Requirement already satisfied: six>=1.5 in /usr/local/lib/python3.8/dist-packages (from python-dateutil>=2.7.3->pandas->shap) (1.15.0)\n",
            "Requirement already satisfied: zipp>=0.5 in /usr/local/lib/python3.8/dist-packages (from importlib-metadata->numba->shap) (3.11.0)\n"
          ]
        }
      ],
      "source": [
        "%matplotlib inline\n",
        "\n",
        "import glob\n",
        "import seaborn as sns\n",
        "import pandas as pd\n",
        "import numpy as np\n",
        "import sklearn\n",
        "import matplotlib.pyplot as plt\n",
        "from sklearn.preprocessing import LabelEncoder\n",
        "!pip install shap\n",
        "import sklearn.tree\n",
        "import shap\n",
        "from collections import Counter\n",
        "from sklearn.preprocessing import StandardScaler\n",
        "from sklearn.model_selection import train_test_split\n",
        "import xgboost\n",
        "import tensorflow as tf\n",
        "from tensorflow.keras.models import Sequential\n",
        "from tensorflow.keras.layers import Dense,Dropout\n",
        "from tensorflow.keras.models import load_model\n",
        "from tensorflow.keras.utils import to_categorical"
      ]
    },
    {
      "cell_type": "markdown",
      "metadata": {
        "id": "lIAR7vC6kuZV"
      },
      "source": [
        " # I) Read all the available dataset"
      ]
    },
    {
      "cell_type": "markdown",
      "metadata": {
        "id": "RHLB4qzjk_YS"
      },
      "source": [
        "This part consists of reading the OASIS dataset, splitting it into train and test sets and displaying a number of images per set.\n",
        "\n"
      ]
    },
    {
      "cell_type": "code",
      "execution_count": null,
      "metadata": {
        "id": "LV4spU5_3EK3",
        "colab": {
          "base_uri": "https://localhost:8080/",
          "height": 206
        },
        "outputId": "9a954c0f-6219-4b10-c073-94586b136cde"
      },
      "outputs": [
        {
          "output_type": "execute_result",
          "data": {
            "text/plain": [
              "  Subject ID         MRI ID        Group  Visit  MR Delay M/F Hand  Age  EDUC  \\\n",
              "0  OAS2_0001  OAS2_0001_MR1  Nondemented      1         0   M    R   87    14   \n",
              "1  OAS2_0001  OAS2_0001_MR2  Nondemented      2       457   M    R   88    14   \n",
              "2  OAS2_0002  OAS2_0002_MR1     Demented      1         0   M    R   75    12   \n",
              "3  OAS2_0002  OAS2_0002_MR2     Demented      2       560   M    R   76    12   \n",
              "4  OAS2_0002  OAS2_0002_MR3     Demented      3      1895   M    R   80    12   \n",
              "\n",
              "   SES  MMSE  CDR  eTIV   nWBV    ASF  \n",
              "0  2.0  27.0  0.0  1987  0.696  0.883  \n",
              "1  2.0  30.0  0.0  2004  0.681  0.876  \n",
              "2  2.0  23.0  0.5  1678  0.736  1.046  \n",
              "3  2.0  28.0  0.5  1738  0.713  1.010  \n",
              "4  2.0  22.0  0.5  1698  0.701  1.034  "
            ],
            "text/html": [
              "\n",
              "  <div id=\"df-02e14828-7a86-4c9a-b792-fa144b285495\">\n",
              "    <div class=\"colab-df-container\">\n",
              "      <div>\n",
              "<style scoped>\n",
              "    .dataframe tbody tr th:only-of-type {\n",
              "        vertical-align: middle;\n",
              "    }\n",
              "\n",
              "    .dataframe tbody tr th {\n",
              "        vertical-align: top;\n",
              "    }\n",
              "\n",
              "    .dataframe thead th {\n",
              "        text-align: right;\n",
              "    }\n",
              "</style>\n",
              "<table border=\"1\" class=\"dataframe\">\n",
              "  <thead>\n",
              "    <tr style=\"text-align: right;\">\n",
              "      <th></th>\n",
              "      <th>Subject ID</th>\n",
              "      <th>MRI ID</th>\n",
              "      <th>Group</th>\n",
              "      <th>Visit</th>\n",
              "      <th>MR Delay</th>\n",
              "      <th>M/F</th>\n",
              "      <th>Hand</th>\n",
              "      <th>Age</th>\n",
              "      <th>EDUC</th>\n",
              "      <th>SES</th>\n",
              "      <th>MMSE</th>\n",
              "      <th>CDR</th>\n",
              "      <th>eTIV</th>\n",
              "      <th>nWBV</th>\n",
              "      <th>ASF</th>\n",
              "    </tr>\n",
              "  </thead>\n",
              "  <tbody>\n",
              "    <tr>\n",
              "      <th>0</th>\n",
              "      <td>OAS2_0001</td>\n",
              "      <td>OAS2_0001_MR1</td>\n",
              "      <td>Nondemented</td>\n",
              "      <td>1</td>\n",
              "      <td>0</td>\n",
              "      <td>M</td>\n",
              "      <td>R</td>\n",
              "      <td>87</td>\n",
              "      <td>14</td>\n",
              "      <td>2.0</td>\n",
              "      <td>27.0</td>\n",
              "      <td>0.0</td>\n",
              "      <td>1987</td>\n",
              "      <td>0.696</td>\n",
              "      <td>0.883</td>\n",
              "    </tr>\n",
              "    <tr>\n",
              "      <th>1</th>\n",
              "      <td>OAS2_0001</td>\n",
              "      <td>OAS2_0001_MR2</td>\n",
              "      <td>Nondemented</td>\n",
              "      <td>2</td>\n",
              "      <td>457</td>\n",
              "      <td>M</td>\n",
              "      <td>R</td>\n",
              "      <td>88</td>\n",
              "      <td>14</td>\n",
              "      <td>2.0</td>\n",
              "      <td>30.0</td>\n",
              "      <td>0.0</td>\n",
              "      <td>2004</td>\n",
              "      <td>0.681</td>\n",
              "      <td>0.876</td>\n",
              "    </tr>\n",
              "    <tr>\n",
              "      <th>2</th>\n",
              "      <td>OAS2_0002</td>\n",
              "      <td>OAS2_0002_MR1</td>\n",
              "      <td>Demented</td>\n",
              "      <td>1</td>\n",
              "      <td>0</td>\n",
              "      <td>M</td>\n",
              "      <td>R</td>\n",
              "      <td>75</td>\n",
              "      <td>12</td>\n",
              "      <td>2.0</td>\n",
              "      <td>23.0</td>\n",
              "      <td>0.5</td>\n",
              "      <td>1678</td>\n",
              "      <td>0.736</td>\n",
              "      <td>1.046</td>\n",
              "    </tr>\n",
              "    <tr>\n",
              "      <th>3</th>\n",
              "      <td>OAS2_0002</td>\n",
              "      <td>OAS2_0002_MR2</td>\n",
              "      <td>Demented</td>\n",
              "      <td>2</td>\n",
              "      <td>560</td>\n",
              "      <td>M</td>\n",
              "      <td>R</td>\n",
              "      <td>76</td>\n",
              "      <td>12</td>\n",
              "      <td>2.0</td>\n",
              "      <td>28.0</td>\n",
              "      <td>0.5</td>\n",
              "      <td>1738</td>\n",
              "      <td>0.713</td>\n",
              "      <td>1.010</td>\n",
              "    </tr>\n",
              "    <tr>\n",
              "      <th>4</th>\n",
              "      <td>OAS2_0002</td>\n",
              "      <td>OAS2_0002_MR3</td>\n",
              "      <td>Demented</td>\n",
              "      <td>3</td>\n",
              "      <td>1895</td>\n",
              "      <td>M</td>\n",
              "      <td>R</td>\n",
              "      <td>80</td>\n",
              "      <td>12</td>\n",
              "      <td>2.0</td>\n",
              "      <td>22.0</td>\n",
              "      <td>0.5</td>\n",
              "      <td>1698</td>\n",
              "      <td>0.701</td>\n",
              "      <td>1.034</td>\n",
              "    </tr>\n",
              "  </tbody>\n",
              "</table>\n",
              "</div>\n",
              "      <button class=\"colab-df-convert\" onclick=\"convertToInteractive('df-02e14828-7a86-4c9a-b792-fa144b285495')\"\n",
              "              title=\"Convert this dataframe to an interactive table.\"\n",
              "              style=\"display:none;\">\n",
              "        \n",
              "  <svg xmlns=\"http://www.w3.org/2000/svg\" height=\"24px\"viewBox=\"0 0 24 24\"\n",
              "       width=\"24px\">\n",
              "    <path d=\"M0 0h24v24H0V0z\" fill=\"none\"/>\n",
              "    <path d=\"M18.56 5.44l.94 2.06.94-2.06 2.06-.94-2.06-.94-.94-2.06-.94 2.06-2.06.94zm-11 1L8.5 8.5l.94-2.06 2.06-.94-2.06-.94L8.5 2.5l-.94 2.06-2.06.94zm10 10l.94 2.06.94-2.06 2.06-.94-2.06-.94-.94-2.06-.94 2.06-2.06.94z\"/><path d=\"M17.41 7.96l-1.37-1.37c-.4-.4-.92-.59-1.43-.59-.52 0-1.04.2-1.43.59L10.3 9.45l-7.72 7.72c-.78.78-.78 2.05 0 2.83L4 21.41c.39.39.9.59 1.41.59.51 0 1.02-.2 1.41-.59l7.78-7.78 2.81-2.81c.8-.78.8-2.07 0-2.86zM5.41 20L4 18.59l7.72-7.72 1.47 1.35L5.41 20z\"/>\n",
              "  </svg>\n",
              "      </button>\n",
              "      \n",
              "  <style>\n",
              "    .colab-df-container {\n",
              "      display:flex;\n",
              "      flex-wrap:wrap;\n",
              "      gap: 12px;\n",
              "    }\n",
              "\n",
              "    .colab-df-convert {\n",
              "      background-color: #E8F0FE;\n",
              "      border: none;\n",
              "      border-radius: 50%;\n",
              "      cursor: pointer;\n",
              "      display: none;\n",
              "      fill: #1967D2;\n",
              "      height: 32px;\n",
              "      padding: 0 0 0 0;\n",
              "      width: 32px;\n",
              "    }\n",
              "\n",
              "    .colab-df-convert:hover {\n",
              "      background-color: #E2EBFA;\n",
              "      box-shadow: 0px 1px 2px rgba(60, 64, 67, 0.3), 0px 1px 3px 1px rgba(60, 64, 67, 0.15);\n",
              "      fill: #174EA6;\n",
              "    }\n",
              "\n",
              "    [theme=dark] .colab-df-convert {\n",
              "      background-color: #3B4455;\n",
              "      fill: #D2E3FC;\n",
              "    }\n",
              "\n",
              "    [theme=dark] .colab-df-convert:hover {\n",
              "      background-color: #434B5C;\n",
              "      box-shadow: 0px 1px 3px 1px rgba(0, 0, 0, 0.15);\n",
              "      filter: drop-shadow(0px 1px 2px rgba(0, 0, 0, 0.3));\n",
              "      fill: #FFFFFF;\n",
              "    }\n",
              "  </style>\n",
              "\n",
              "      <script>\n",
              "        const buttonEl =\n",
              "          document.querySelector('#df-02e14828-7a86-4c9a-b792-fa144b285495 button.colab-df-convert');\n",
              "        buttonEl.style.display =\n",
              "          google.colab.kernel.accessAllowed ? 'block' : 'none';\n",
              "\n",
              "        async function convertToInteractive(key) {\n",
              "          const element = document.querySelector('#df-02e14828-7a86-4c9a-b792-fa144b285495');\n",
              "          const dataTable =\n",
              "            await google.colab.kernel.invokeFunction('convertToInteractive',\n",
              "                                                     [key], {});\n",
              "          if (!dataTable) return;\n",
              "\n",
              "          const docLinkHtml = 'Like what you see? Visit the ' +\n",
              "            '<a target=\"_blank\" href=https://colab.research.google.com/notebooks/data_table.ipynb>data table notebook</a>'\n",
              "            + ' to learn more about interactive tables.';\n",
              "          element.innerHTML = '';\n",
              "          dataTable['output_type'] = 'display_data';\n",
              "          await google.colab.output.renderOutput(dataTable, element);\n",
              "          const docLink = document.createElement('div');\n",
              "          docLink.innerHTML = docLinkHtml;\n",
              "          element.appendChild(docLink);\n",
              "        }\n",
              "      </script>\n",
              "    </div>\n",
              "  </div>\n",
              "  "
            ]
          },
          "metadata": {},
          "execution_count": 7
        }
      ],
      "source": [
        "df = pd.read_csv('oasis_longitudinal.csv')\n",
        "#fillna will fill the missing data.\n",
        "# https://pandas.pydata.org/pandas-docs/stable/generated/pandas.DataFrame.fillna.html\n",
        "\n",
        "df = df.fillna(method = 'ffill')\n",
        "\n",
        "#Calculate the number of samples per class\n",
        "Counter(df[\"Group\"])\n",
        "#print(Counter(df[\"Group\"])\n",
        "\n",
        "# Display the last 5 lines..\n",
        "df.tail()\n",
        "\n",
        "# Display the first 5 lines.\n",
        "df.head()"
      ]
    },
    {
      "cell_type": "markdown",
      "metadata": {
        "id": "8EgKul_yv59q"
      },
      "source": [
        "# II) Extract the important feature and split data"
      ]
    },
    {
      "cell_type": "code",
      "execution_count": null,
      "metadata": {
        "id": "DwbaUxb4v6da",
        "colab": {
          "base_uri": "https://localhost:8080/"
        },
        "outputId": "623fdbc0-d0be-49ec-fc8d-234eaa41f073"
      },
      "outputs": [
        {
          "output_type": "stream",
          "name": "stdout",
          "text": [
            "     Group  M/F  Age  EDUC  SES  eTIV    ASF\n",
            "35       0    0   32    14  1.0  1423  1.234\n",
            "38       0    1   24    20  1.0  1597  1.099\n",
            "330      1    1   19    20  1.0  1710  1.026\n",
            "312      0    0   15    18  1.0  1436  1.222\n",
            "55       0    0    0    18  1.0  1402  1.252\n",
            "..     ...  ...  ...   ...  ...   ...    ...\n",
            "234      1    0   18    12  3.0  1339  1.311\n",
            "123      1    1   18    14  3.0  1315  1.335\n",
            "322      1    1   16    12  3.0  1557  1.127\n",
            "75       1    1   29    12  4.0  1485  1.181\n",
            "134      1    0   20    12  2.0  1430  1.228\n",
            "\n",
            "[112 rows x 7 columns]\n"
          ]
        },
        {
          "output_type": "stream",
          "name": "stderr",
          "text": [
            "\n",
            "A value is trying to be set on a copy of a slice from a DataFrame.\n",
            "Try using .loc[row_indexer,col_indexer] = value instead\n",
            "\n",
            "See the caveats in the documentation: https://pandas.pydata.org/pandas-docs/stable/user_guide/indexing.html#returning-a-view-versus-a-copy\n",
            "\n",
            "A value is trying to be set on a copy of a slice from a DataFrame\n",
            "\n",
            "See the caveats in the documentation: https://pandas.pydata.org/pandas-docs/stable/user_guide/indexing.html#returning-a-view-versus-a-copy\n"
          ]
        }
      ],
      "source": [
        "df=df[['Group','M/F', 'Age', 'EDUC', 'SES',  'eTIV', 'ASF']]\n",
        "#Encoding the Group variable\n",
        "   # 'Not Demented' has become 2.\n",
        "   # 'Demented' has become 1.\n",
        "#print(df)\n",
        "# Enconde the categorical features\n",
        "for x in ['M/F', 'Age','Group']:\n",
        "    f = LabelEncoder()\n",
        "    df[x] = f.fit_transform(df[x])\n",
        "#print(df.head())#male 1 female 0\n",
        "\n",
        "df['Group'].replace(to_replace = 2, value = 0, inplace = True)\n",
        "df['Group'].replace(to_replace = 1, value = 1, inplace = True)\n",
        "\n",
        "# The dataset is splited as:\n",
        "# 70% for training\n",
        "# 30% for test\n",
        "\n",
        "train, test = train_test_split(df, test_size = 0.3)\n",
        "\n",
        "#print(train.head())\n",
        "print(test)"
      ]
    },
    {
      "cell_type": "markdown",
      "metadata": {
        "id": "sJICZksru24L"
      },
      "source": [
        "# II) Problem definition Y= f(X)\n",
        "### We will predict the Group the M/F, Age, EDUC, SES, eTIV and ASF features."
      ]
    },
    {
      "cell_type": "code",
      "execution_count": null,
      "metadata": {
        "id": "YFJMnyyMu-4I",
        "colab": {
          "base_uri": "https://localhost:8080/"
        },
        "outputId": "adfd963a-40ae-474b-d78b-abcd2839d3e2"
      },
      "outputs": [
        {
          "output_type": "stream",
          "name": "stdout",
          "text": [
            "<class 'pandas.core.frame.DataFrame'>\n"
          ]
        }
      ],
      "source": [
        "X_train = train[['M/F', 'Age', 'EDUC', 'SES',  'eTIV', 'ASF']]\n",
        "y_train = train.Group# predict the group\n",
        "print(type(X_train))\n",
        "#print(y_train.head())\n",
        "#print(y_train.shape)\n",
        "\n",
        "\n",
        "X_test = test[['M/F', 'Age', 'EDUC', 'SES',  'eTIV',  'ASF']]\n",
        "y_test = test.Group\n"
      ]
    },
    {
      "cell_type": "markdown",
      "metadata": {
        "id": "mA8SMjZMpOoY"
      },
      "source": [
        "# III) Data normalization"
      ]
    },
    {
      "cell_type": "code",
      "execution_count": null,
      "metadata": {
        "id": "kXUGC3Ho3ELL",
        "colab": {
          "base_uri": "https://localhost:8080/"
        },
        "outputId": "9629c47b-3edb-4045-9f39-b3b94597fcc2"
      },
      "outputs": [
        {
          "output_type": "stream",
          "name": "stdout",
          "text": [
            "<class 'pandas.core.frame.DataFrame'>\n",
            "<class 'numpy.ndarray'>\n"
          ]
        }
      ],
      "source": [
        "# Define the scaler\n",
        "\n",
        "print(type(X_train))\n",
        "scaler = StandardScaler().fit(X_train)\n",
        "\n",
        "# Scale the training dataset\n",
        "X_train = scaler.transform(X_train)\n",
        "print(type(X_train))\n",
        "\n",
        "# Scale the test dataset\n",
        "X_test = scaler.transform(X_test)\n",
        "\n",
        "#Transfor data to array\n",
        "y_train = np.ravel(y_train)\n",
        "X_train = np.asarray(X_train)\n",
        "#print(X_train)\n",
        "\n",
        "y_test = np.ravel(y_test)\n",
        "X_test = np.asarray(X_test)\n",
        "\n",
        "X_train_DF= pd.DataFrame(X_train,columns=[\"M/F\", \"Age\",\"EDUC\",\"SES\",\"eTIV\",\"ASF\"])\n",
        "X_test_DF= pd.DataFrame(X_test,columns=[\"M/F\", \"Age\",\"EDUC\",\"SES\",\"eTIV\",\"ASF\"])\n",
        "#X_train_DF\n",
        "\n"
      ]
    },
    {
      "cell_type": "markdown",
      "metadata": {
        "id": "-e9x0DXC3ELM"
      },
      "source": [
        "#IV) Decision Tree classifier."
      ]
    },
    {
      "cell_type": "markdown",
      "metadata": {
        "id": "EHvTrguf1aaj"
      },
      "source": [
        "### 1)  Train and evaluate a DT Classifier"
      ]
    },
    {
      "cell_type": "code",
      "execution_count": null,
      "metadata": {
        "id": "6672cqljmDUI",
        "colab": {
          "base_uri": "https://localhost:8080/"
        },
        "outputId": "a690a01d-66d9-4cac-dea6-0d50f919a6d1"
      },
      "outputs": [
        {
          "output_type": "stream",
          "name": "stdout",
          "text": [
            "1.0\n",
            "0.7857142857142857\n"
          ]
        }
      ],
      "source": [
        "dtree = sklearn.tree.DecisionTreeClassifier(min_samples_split=2)\n",
        "dtree.fit(X_train, y_train)\n",
        "\n",
        "print(dtree.score(X_train, y_train))\n",
        "print(dtree.score(X_test, y_test))\n"
      ]
    },
    {
      "cell_type": "markdown",
      "metadata": {
        "id": "SPjWpYfU1r2M"
      },
      "source": [
        "### 2)  Global interpreation of the DT classifier\n",
        "**TODO: interpretate the obtained results**"
      ]
    },
    {
      "cell_type": "code",
      "execution_count": null,
      "metadata": {
        "id": "L90LqvzBugl9",
        "colab": {
          "base_uri": "https://localhost:8080/",
          "height": 340,
          "referenced_widgets": [
            "a1929c87f55546fc92d422ea55f0360b",
            "abfdae654bc743e99dfde94bdb394a1e",
            "3514eaab3e7c42eca25a237b8dd1fbe1",
            "7143f58dda754d14ba83be3eea4240bf",
            "af68c4e3f61f46368531537b16d3a497",
            "8ba75d96adc64635af57ce9a010b189a",
            "18797f5f68e44158bb1ccfdae2da78f7",
            "9b6258f2dbb843dca57d6d56b316c3c2",
            "1988fed7e4e84ac58b166ae71ac92397",
            "2b703334c94745e3ab9df48702efc802",
            "9819e0b8ad54406b97142aea3156ff49"
          ]
        },
        "outputId": "c5250055-c704-4516-c7fe-7935c2aa2a9c"
      },
      "outputs": [
        {
          "output_type": "stream",
          "name": "stderr",
          "text": [
            "WARNING:shap:Using 261 background data samples could cause slower run times. Consider using shap.sample(data, K) or shap.kmeans(data, K) to summarize the background as K samples.\n"
          ]
        },
        {
          "output_type": "display_data",
          "data": {
            "text/plain": [
              "  0%|          | 0/112 [00:00<?, ?it/s]"
            ],
            "application/vnd.jupyter.widget-view+json": {
              "version_major": 2,
              "version_minor": 0,
              "model_id": "a1929c87f55546fc92d422ea55f0360b"
            }
          },
          "metadata": {}
        },
        {
          "output_type": "display_data",
          "data": {
            "text/plain": [
              "<Figure size 576x280.8 with 1 Axes>"
            ],
            "image/png": "[encoded data removed]"
          },
          "metadata": {
            "needs_background": "light"
          }
        }
      ],
      "source": [
        "explainer = shap.KernelExplainer(dtree.predict_proba,X_train_DF)\n",
        "\n",
        "#compute shap_values\n",
        "shap_values = explainer.shap_values(X_test_DF, approximate=True)\n",
        "\n",
        "# visualize the prediction's explanation\n",
        "shap.summary_plot(shap_values, X_test_DF)"
      ]
    },
    {
      "cell_type": "markdown",
      "source": [
        "\n",
        "In this plot, the SHAP feature importance are measured as the mean absolute Shapley values\n",
        "\n",
        "As a first observation of SHAP feature importance plot, we can say that the M/F feature has the most important impact on the prediction of class (increasing or decreasing)  by changing the predicted disease probability on average by 40%\n",
        "Also, we can remark that SES feature has an average impact less than 0.1\n",
        "on the prediction result for each class 0 and 1.\n",
        "So we can say, it has the less impact among all the features on the prediction of the disease.\n",
        "This plot is unsufficient to have an idea about  of how it affects the prediction whcih means what is beyond this importance."
      ],
      "metadata": {
        "id": "seYqXEc2KfSN"
      }
    },
    {
      "cell_type": "markdown",
      "source": [
        "In order to clarify this importance , whe have to observe the summary plot which combines the feature importance with its effect."
      ],
      "metadata": {
        "id": "U_z-r4t2QBFk"
      }
    },
    {
      "cell_type": "code",
      "source": [
        "#Explanation according to one class (0 or 1)\n",
        "print(X_test_DF)\n",
        "\n",
        "y_pred=dtree.predict(X_test)\n",
        "print(y_pred)\n",
        "shap.summary_plot(shap_values[0], X_test_DF)#class 0\n",
        "shap.summary_plot(shap_values[1], X_test_DF)#class 1\n",
        "\n",
        "\n",
        "print(max(df[\"EDUC\"]))\n",
        "#shap.dependence_plot(0, shap_values[0], X_test_DF, feature_names=X_test_DF[\"M/F\"])\n",
        "\n",
        "print(\"SHAP values for sample 0 pour classe 1\",shap_values[1][0])#pour la deuxieme question\n",
        "print(\"and the predicted class is\",y_pred[0])"
      ],
      "metadata": {
        "id": "-upHXe03e2TV",
        "colab": {
          "base_uri": "https://localhost:8080/",
          "height": 951
        },
        "outputId": "d37c4bd3-22aa-4b2a-aa04-4dfa51011b77"
      },
      "execution_count": null,
      "outputs": [
        {
          "output_type": "stream",
          "name": "stdout",
          "text": [
            "          M/F       Age      EDUC       SES      eTIV       ASF\n",
            "0   -0.860233  1.926124 -0.183005 -1.329601 -0.340376  0.246777\n",
            "1    1.162476  0.886913  2.004675 -1.329601  0.659678 -0.733958\n",
            "2    1.162476  0.237406  2.004675 -1.329601  1.309139 -1.264281\n",
            "3   -0.860233 -0.282200  1.275448 -1.329601 -0.265659  0.159601\n",
            "4   -0.860233 -2.230721  1.275448 -1.329601 -0.461072  0.377542\n",
            "..        ...       ...       ...       ...       ...       ...\n",
            "107 -0.860233  0.107505 -0.912232  0.409877 -0.823161  0.806159\n",
            "108  1.162476  0.107505 -0.183005  0.409877 -0.961099  0.980512\n",
            "109  1.162476 -0.152298 -0.912232  0.409877  0.429781 -0.530546\n",
            "110  1.162476  1.536420 -0.912232  1.279616  0.015965 -0.138252\n",
            "111 -0.860233  0.367307 -0.912232 -0.459862 -0.300144  0.203189\n",
            "\n",
            "[112 rows x 6 columns]\n",
            "[0 0 1 0 0 0 1 0 1 1 1 0 1 0 1 1 0 0 1 1 1 1 0 0 0 0 0 0 0 0 0 0 0 0 1 0 1\n",
            " 0 0 1 1 1 0 0 0 0 0 1 0 0 0 0 1 0 0 0 0 0 1 0 0 0 0 1 0 0 0 0 0 1 1 1 1 0\n",
            " 1 1 0 0 0 0 1 1 1 0 1 1 1 0 1 0 0 1 0 1 1 0 0 1 0 0 0 0 0 0 0 1 0 0 1 0 1\n",
            " 0]\n"
          ]
        },
        {
          "output_type": "display_data",
          "data": {
            "text/plain": [
              "<Figure size 576x280.8 with 2 Axes>"
            ],
            "image/png": "[encoded data removed]"
          },
          "metadata": {
            "needs_background": "light"
          }
        },
        {
          "output_type": "display_data",
          "data": {
            "text/plain": [
              "<Figure size 576x280.8 with 2 Axes>"
            ],
            "image/png": "[encoded data removed]"
          },
          "metadata": {
            "needs_background": "light"
          }
        },
        {
          "output_type": "stream",
          "name": "stdout",
          "text": [
            "23\n",
            "SHAP values for sample 0 pour classe 1 [-0.19980843 -0.07113665  0.04348659 -0.00261814 -0.18065134  0.00076628]\n",
            "and the predicted class is 0\n"
          ]
        }
      ]
    },
    {
      "cell_type": "markdown",
      "source": [
        "# Question 1: Local explanation"
      ],
      "metadata": {
        "id": "cLa1ctY0WJsx"
      }
    },
    {
      "cell_type": "code",
      "source": [
        "print(\"SHAP values for sample 0 pour classe 1\",shap_values[1][0])#pour la deuxieme question\n",
        "print(\"and the predicted class is\",y_pred[0])"
      ],
      "metadata": {
        "colab": {
          "base_uri": "https://localhost:8080/"
        },
        "id": "0hX7eGYVWG07",
        "outputId": "8dab33ff-e034-47b0-e77b-d1e879f1bce0"
      },
      "execution_count": null,
      "outputs": [
        {
          "output_type": "stream",
          "name": "stdout",
          "text": [
            "SHAP values for sample 0 pour classe 1 [-0.19980843 -0.07113665  0.04348659 -0.00261814 -0.18065134  0.00076628]\n",
            "and the predicted class is 0\n"
          ]
        }
      ]
    },
    {
      "cell_type": "markdown",
      "source": [
        "\n",
        "When we try to print the shape values of the first individual (thats means sample 0),we remark that the feature M/F has the highest negative SHAP value whereas the other features (except eTIV)have SHAP values close to zero.The predicted class is 0.\n",
        " So,being a female has the most important effect to decrease the predicted probability of class 1(having the disease).\n",
        "\n",
        "\n",
        "\n",
        "\n",
        "\n"
      ],
      "metadata": {
        "id": "mTXKA8YeDg_r"
      }
    },
    {
      "cell_type": "code",
      "source": [
        "print(\"SHAP values for sample nuber 111 pour classe 1\",shap_values[1][110])#pour la deuxieme question\n",
        "print(\"and the predicted class is\",y_pred[110])"
      ],
      "metadata": {
        "colab": {
          "base_uri": "https://localhost:8080/"
        },
        "id": "3FRY6o94WSFy",
        "outputId": "59838571-a3b6-4d06-d330-cb46dcdecdea"
      },
      "execution_count": null,
      "outputs": [
        {
          "output_type": "stream",
          "name": "stdout",
          "text": [
            "SHAP values for sample nuber 111 pour classe 1 [ 0.32969349 -0.07796935  0.21021711  0.00517241  0.01570881  0.10721584]\n",
            "and the predicted class is 1\n"
          ]
        }
      ]
    },
    {
      "cell_type": "markdown",
      "source": [
        "When we try to show the SHAP values for the fourth sample, we observe that the M/F feature has the most important positive SHAP value then the EDU feature comes after whereas the other features have close to zero ones.We have predicted the class 1.\n",
        "As it is shown in the summary plot, a male person has more probability to catch the disease .Plus, a person with low EDU value will have enhance the probability of class 1.\n",
        "It shows that the M/F feature has the most important effect on the nature of our output class which is coherent with the first plot."
      ],
      "metadata": {
        "id": "wyoq6Yd6WxLO"
      }
    },
    {
      "cell_type": "markdown",
      "source": [
        "# Question2:  General interpretation:\n",
        "As a general interpretation, the M/F feature increases the predicted probability to have a disease for high values which means to be a man.\n",
        "Plus, a well-educated person will have less probability to catch the disease.\n",
        "Finally, the SES feature has , generally for most samples,a insignificant  effect on the predicted proobability for high or low feature's values.\n",
        "\n",
        "Despite the score of this classifier, we can say that M/F feature is the most important feature to observe.\n"
      ],
      "metadata": {
        "id": "c-5uZpwZWTtu"
      }
    },
    {
      "cell_type": "markdown",
      "metadata": {
        "id": "feECWjNqmBpW"
      },
      "source": [
        "#V) Random Forest classifier."
      ]
    },
    {
      "cell_type": "markdown",
      "source": [
        "### 1)  Train and evaluate a RF Classifier"
      ],
      "metadata": {
        "id": "wO_yhL8Odex6"
      }
    },
    {
      "cell_type": "code",
      "execution_count": null,
      "metadata": {
        "id": "__zAeV2TmOci",
        "colab": {
          "base_uri": "https://localhost:8080/"
        },
        "outputId": "4d2b24a3-fdf8-4698-dba6-dbbaef38a515"
      },
      "outputs": [
        {
          "output_type": "stream",
          "name": "stdout",
          "text": [
            "1.0\n",
            "0.8482142857142857\n"
          ]
        }
      ],
      "source": [
        "rf = sklearn.ensemble.RandomForestClassifier(max_depth=50, random_state=0)\n",
        "rf.fit(X_train, y_train)\n",
        "\n",
        "print(rf.score(X_train, y_train))\n",
        "print(rf.score(X_test, y_test))"
      ]
    },
    {
      "cell_type": "markdown",
      "metadata": {
        "id": "67xVdF9XqT6g"
      },
      "source": [
        "### 2)  Global interpreation of the RF classifier\n",
        "**TODO: interpretate the obtained results**"
      ]
    },
    {
      "cell_type": "code",
      "source": [
        "explainer = shap.KernelExplainer(rf.predict_proba,X_train_DF)\n",
        "\n",
        "#Compute shap_values\n",
        "shap_values = explainer.shap_values(X_test_DF, approximate=True)\n",
        "\n",
        "# visualize the prediction's explanation\n",
        "shap.summary_plot(shap_values, X_test_DF)"
      ],
      "metadata": {
        "id": "nGrLAl_sh1gg",
        "colab": {
          "base_uri": "https://localhost:8080/",
          "height": 340,
          "referenced_widgets": [
            "49651dfe8ca34574a81fc63bc6378135",
            "40c7bb9393104a97b066b9a12fa85d9e",
            "f73e3433ef704b769ec20d784ab0205e",
            "10b6a748afb045b1b3e2b5c604e6f4bd",
            "c14bbf428ea04b69bf3f55457ada27b7",
            "b94cf17a11b94dad882d293a1b3d7f77",
            "2ae71d0fee0e430bb26b09025d008208",
            "35900744769e416696d6b4f0e270aa5c",
            "14ebd50c196142039a650405306de2d5",
            "542aa7cae8f9438d9f83d86f2691a254",
            "a35ed3ad904e4253aae7880a0156368d"
          ]
        },
        "outputId": "fa01edca-0bf8-43b8-b1d0-30544f4c0027"
      },
      "execution_count": null,
      "outputs": [
        {
          "output_type": "stream",
          "name": "stderr",
          "text": [
            "WARNING:shap:Using 261 background data samples could cause slower run times. Consider using shap.sample(data, K) or shap.kmeans(data, K) to summarize the background as K samples.\n"
          ]
        },
        {
          "output_type": "display_data",
          "data": {
            "text/plain": [
              "  0%|          | 0/112 [00:00<?, ?it/s]"
            ],
            "application/vnd.jupyter.widget-view+json": {
              "version_major": 2,
              "version_minor": 0,
              "model_id": "49651dfe8ca34574a81fc63bc6378135"
            }
          },
          "metadata": {}
        },
        {
          "output_type": "display_data",
          "data": {
            "text/plain": [
              "<Figure size 576x280.8 with 1 Axes>"
            ],
            "image/png": "[encoded data removed]"
          },
          "metadata": {
            "needs_background": "light"
          }
        }
      ]
    },
    {
      "cell_type": "markdown",
      "source": [
        "AS it is shown by the SHAP feature importance plot, we can say that the M/F feature has at this time also the most important impact on the prediction of group by changing the predicted disease probability on average by 30% .Plus, we can say that Age and SES features have an average impact less than 0.1 on the prediction result for each class 0 and 1 compared with the DT classifier. So, they have the less impact among all the features on the prediction of the disease.\n",
        "\n",
        "This plot doesn't show us the manner of how it affects the probability prediction."
      ],
      "metadata": {
        "id": "hT9dNibVlbrq"
      }
    },
    {
      "cell_type": "code",
      "source": [
        "y_pred=rf.predict(X_test)\n",
        "print(y_pred)\n",
        "print(df)"
      ],
      "metadata": {
        "colab": {
          "base_uri": "https://localhost:8080/"
        },
        "id": "vxMdLbpodbm1",
        "outputId": "4dec9742-0e9e-47f8-9ce7-f520c85c5045"
      },
      "execution_count": null,
      "outputs": [
        {
          "output_type": "stream",
          "name": "stdout",
          "text": [
            "[0 0 1 0 0 1 1 0 1 1 1 0 1 0 0 1 0 0 1 1 1 1 0 0 0 0 0 1 0 0 0 0 0 0 1 0 1\n",
            " 0 0 1 1 1 0 0 0 0 0 0 0 0 0 0 1 0 0 0 0 0 1 0 0 0 0 1 0 0 0 0 0 0 0 1 0 0\n",
            " 0 1 0 0 0 0 1 1 0 0 1 0 0 0 1 0 0 0 0 0 1 0 0 0 0 0 0 0 0 0 0 1 0 0 1 1 1\n",
            " 0]\n",
            "     Group  M/F  Age  EDUC  SES  eTIV    ASF\n",
            "0        0    1   27    14  2.0  1987  0.883\n",
            "1        0    1   28    14  2.0  2004  0.876\n",
            "2        1    1   15    12  2.0  1678  1.046\n",
            "3        1    1   16    12  2.0  1738  1.010\n",
            "4        1    1   20    12  2.0  1698  1.034\n",
            "..     ...  ...  ...   ...  ...   ...    ...\n",
            "368      1    1   22    16  1.0  1693  1.037\n",
            "369      1    1   26    16  1.0  1688  1.040\n",
            "370      0    0    1    13  2.0  1319  1.331\n",
            "371      0    0    3    13  2.0  1327  1.323\n",
            "372      0    0    5    13  2.0  1333  1.317\n",
            "\n",
            "[373 rows x 7 columns]\n"
          ]
        }
      ]
    },
    {
      "cell_type": "code",
      "source": [
        "#Explanation according to one class (0 or 1)\n",
        "shap.summary_plot(shap_values[1], X_test_DF)#for class 1"
      ],
      "metadata": {
        "id": "QMICxCysiAuh",
        "colab": {
          "base_uri": "https://localhost:8080/",
          "height": 290
        },
        "outputId": "d47e169c-5d31-45e2-a86c-9a3058f03180"
      },
      "execution_count": null,
      "outputs": [
        {
          "output_type": "display_data",
          "data": {
            "text/plain": [
              "<Figure size 576x280.8 with 2 Axes>"
            ],
            "image/png": "[encoded data removed]"
          },
          "metadata": {
            "needs_background": "light"
          }
        }
      ]
    },
    {
      "cell_type": "markdown",
      "source": [
        "The summary plot show us that the M/F feature has extreme SHAP values which means that it can affects hardly the predicted probability.\n",
        "Also, being a well-educated person will decrease the probability of having the disease."
      ],
      "metadata": {
        "id": "lIdvCu3Og9wi"
      }
    },
    {
      "cell_type": "markdown",
      "source": [
        "# Question 1: Local explanation"
      ],
      "metadata": {
        "id": "DCRNR59LmPYK"
      }
    },
    {
      "cell_type": "code",
      "source": [
        "print(\"SHAP values for sample 0 pour classe 1\",shap_values[1][0])#pour la deuxieme question\n",
        "print(\"and the predicted class is\",y_pred[0])"
      ],
      "metadata": {
        "colab": {
          "base_uri": "https://localhost:8080/"
        },
        "id": "1ch4XpKRmUYm",
        "outputId": "8d2efbee-ab27-4233-cc37-4c710286ac39"
      },
      "execution_count": null,
      "outputs": [
        {
          "output_type": "stream",
          "name": "stdout",
          "text": [
            "SHAP values for sample 0 pour classe 1 [-0.12150383 -0.10546105  0.00781481 -0.03839719 -0.00368072 -0.03076437]\n",
            "and the predicted class is 0\n"
          ]
        }
      ]
    },
    {
      "cell_type": "markdown",
      "source": [
        "As it is show in the summary plot, the sample 0 has negative SHAP VALUE for most of the features.In fact, being a woman has is the responsable feature for increasing the probability of having the class 0 as an output.Moreover, this person is aged which decreases also the presence of the disease.This is well presented in the summary plot."
      ],
      "metadata": {
        "id": "RbbFqteOmjmA"
      }
    },
    {
      "cell_type": "code",
      "source": [
        "print(\"SHAP values for sample 3 pour classe 1\",shap_values[1][2])#pour la deuxieme question\n",
        "print(\"and the predicted class is\",y_pred[2])"
      ],
      "metadata": {
        "colab": {
          "base_uri": "https://localhost:8080/"
        },
        "id": "Fjs4U7lMmkMh",
        "outputId": "0aa5a1f3-87b1-42bc-8466-8fba83a400dd"
      },
      "execution_count": null,
      "outputs": [
        {
          "output_type": "stream",
          "name": "stdout",
          "text": [
            "SHAP values for sample 3 pour classe 1 [ 0.17576245  0.00893678 -0.0737599   0.03218008  0.03233716  0.04255109]\n",
            "and the predicted class is 1\n"
          ]
        }
      ]
    },
    {
      "cell_type": "markdown",
      "source": [
        "The fact of being a male has dominated the SHAP values and increases the predicted probability of having class 1(positive value) .Plus, although of being a well-educated person which means a negative SHAP value, it didn't affect the output result.This can explains the fact that the M/F feature is more important than the EDU feature."
      ],
      "metadata": {
        "id": "Y9bNqQxWm92Z"
      }
    },
    {
      "cell_type": "markdown",
      "source": [
        "# General interpretation"
      ],
      "metadata": {
        "id": "O9C-gJEdm4CH"
      }
    },
    {
      "cell_type": "markdown",
      "source": [
        "As  general interpretation , we can say that the M/F feature has the most important effect on the predicted probability compared with the EDU feature ; being a female person decreases the probability of having the disease despite of being well-educated.\n",
        "\n",
        "The Age and SES feature have a negligible impact on the output since the SHAP values are generally close to 0 .\n"
      ],
      "metadata": {
        "id": "b1ado2B2m8BC"
      }
    },
    {
      "cell_type": "markdown",
      "metadata": {
        "id": "Oham9ffdmmMZ"
      },
      "source": [
        "#VI) XGBoost classifier\n",
        "\n"
      ]
    },
    {
      "cell_type": "markdown",
      "source": [
        "### 1)  Train and evaluate a XGBoost Classifier"
      ],
      "metadata": {
        "id": "AYSm8WdGjzk8"
      }
    },
    {
      "cell_type": "code",
      "execution_count": null,
      "metadata": {
        "id": "bel4IxNNml3d",
        "colab": {
          "base_uri": "https://localhost:8080/"
        },
        "outputId": "c3c6999d-8474-41b8-f7ce-dd824c459142"
      },
      "outputs": [
        {
          "output_type": "stream",
          "name": "stdout",
          "text": [
            "0.9961685823754789\n",
            "0.7857142857142857\n"
          ]
        }
      ],
      "source": [
        "# train an XGBoost model\n",
        "model = xgboost.XGBClassifier(max_depth=50).fit(X_train, y_train)\n",
        "\n",
        "print(model.score(X_train, y_train))\n",
        "print(model.score(X_test, y_test))"
      ]
    },
    {
      "cell_type": "markdown",
      "metadata": {
        "id": "xTrdfW-1sKlV"
      },
      "source": [
        "### 2)  Global interpreation of the XGBoost classifier\n",
        "**TODO: interpretate the obtained results**"
      ]
    },
    {
      "cell_type": "code",
      "execution_count": null,
      "metadata": {
        "id": "vNsPjdVF2uEP",
        "colab": {
          "base_uri": "https://localhost:8080/",
          "height": 340,
          "referenced_widgets": [
            "0f04602e38a94d0a96fa4833e3f13989",
            "bd5889ac2d78450585b0ddf4e8c2dd61",
            "70ebe7e6d41a4a2bb5c8c57445771590",
            "028793443e334899a63f2194a5a4a06d",
            "8a3fcbd0eefb48f2a00ce44b42628beb",
            "25c2fe7302bf4427b30694a1a45ba74c",
            "3562c71cb8174867b34c5747d2e91220",
            "6fdfb71348114a569f1121f905999f0d",
            "294355719ae74cf091d45d76ae998157",
            "042878ac4f9f41c68ff68bded940fb81",
            "20cd3bf3b42f4d709075e9ce0a912732"
          ]
        },
        "outputId": "d0ad7685-6e1d-4152-cf99-752f20280611"
      },
      "outputs": [
        {
          "output_type": "stream",
          "name": "stderr",
          "text": [
            "WARNING:shap:Using 261 background data samples could cause slower run times. Consider using shap.sample(data, K) or shap.kmeans(data, K) to summarize the background as K samples.\n"
          ]
        },
        {
          "output_type": "display_data",
          "data": {
            "text/plain": [
              "  0%|          | 0/112 [00:00<?, ?it/s]"
            ],
            "application/vnd.jupyter.widget-view+json": {
              "version_major": 2,
              "version_minor": 0,
              "model_id": "0f04602e38a94d0a96fa4833e3f13989"
            }
          },
          "metadata": {}
        },
        {
          "output_type": "display_data",
          "data": {
            "text/plain": [
              "<Figure size 576x280.8 with 1 Axes>"
            ],
            "image/png": "[encoded data removed]"
          },
          "metadata": {
            "needs_background": "light"
          }
        }
      ],
      "source": [
        "explainer = shap.KernelExplainer(model.predict_proba,X_train_DF)\n",
        "shap_values = explainer.shap_values(X_test_DF)\n",
        "#shap_values = explainer.shap_values(X_test_DF, approximate=True)\n",
        "# visualize the first prediction's explanation\n",
        "shap.summary_plot(shap_values, X_test_DF,feature_names=[\"M/F\", \"Age\",\"EDUC\",\"SES\",\"eTIV\",\"ASF\"])"
      ]
    },
    {
      "cell_type": "markdown",
      "source": [
        "AS it is shown by the SHAP feature importance figure, we observe that the M/F feature  still has the most important effect on the prediction of class by changing the predicted disease probability on average by 40% .Plus, we can say that Age  ,SES and ASF features have an average impact less than 0.1 on the prediction result for each class 0 and 1 compared with previous classifiers. However, for XGBosst classifier, the \"eTIV\" commes as the second important feature as it can the change the predictid probability by 25%.\n",
        "\n",
        "We need to observe the summary plot as this figure doesn't show us  how the features affect the probability prediction"
      ],
      "metadata": {
        "id": "Qu8pPDcbfWgH"
      }
    },
    {
      "cell_type": "code",
      "source": [
        "#Explanation according to one class (0 or 1)\n",
        "shap.summary_plot(shap_values[1], X_test_DF)"
      ],
      "metadata": {
        "id": "FMznXjeCk5xm",
        "colab": {
          "base_uri": "https://localhost:8080/",
          "height": 290
        },
        "outputId": "7e04260f-7320-415b-c666-cafa3d6a13ea"
      },
      "execution_count": null,
      "outputs": [
        {
          "output_type": "display_data",
          "data": {
            "text/plain": [
              "<Figure size 576x280.8 with 2 Axes>"
            ],
            "image/png": "[encoded data removed]"
          },
          "metadata": {
            "needs_background": "light"
          }
        }
      ]
    },
    {
      "cell_type": "code",
      "source": [
        "print(\"SHAP values for sample 0 pour classe 1\",shap_values[1][0])#pour la deuxieme question\n",
        "print(\"and the predicted class is\",y_pred[0])"
      ],
      "metadata": {
        "colab": {
          "base_uri": "https://localhost:8080/"
        },
        "id": "tRBgmKxvheuz",
        "outputId": "b6808b3d-0015-4fd3-c323-675d6a84209d"
      },
      "execution_count": null,
      "outputs": [
        {
          "output_type": "stream",
          "name": "stdout",
          "text": [
            "SHAP values for sample 0 pour classe 1 [-0.17030569 -0.11608838  0.04895601 -0.06250954  0.06849269 -0.05247092]\n",
            "and the predicted class is 0\n"
          ]
        }
      ]
    },
    {
      "cell_type": "markdown",
      "source": [
        "Despite of having positive SHAP Value for EDU and eTIV features which ,in a usual case, increases the probability of obtaining the class 1 , we have class 0 as predicted output.This can be explained by the fact that we have a negative value of M/F feature decreasing the predicted probability since it has the important impact as shown in the figure above."
      ],
      "metadata": {
        "id": "kQNvbSh5hfFx"
      }
    },
    {
      "cell_type": "code",
      "source": [
        "print(\"SHAP values for sample 3 pour classe 1\",shap_values[1][110])#pour la deuxieme question\n",
        "print(\"and the predicted class is\",y_pred[110])"
      ],
      "metadata": {
        "colab": {
          "base_uri": "https://localhost:8080/"
        },
        "id": "Sos7BsBHhfgn",
        "outputId": "55978953-e33a-4a84-9071-5fa8509757d2"
      },
      "execution_count": null,
      "outputs": [
        {
          "output_type": "stream",
          "name": "stdout",
          "text": [
            "SHAP values for sample 3 pour classe 1 [ 0.33122059 -0.03874488  0.06645651  0.01387265  0.15589703  0.01713027]\n",
            "and the predicted class is 1\n"
          ]
        }
      ]
    },
    {
      "cell_type": "markdown",
      "source": [
        "Since the first sample was clear enough to make an interpretation, we'd like to observe the SHAP values of another sample as shown above.\n",
        "In fact, having positive values for the important features has lead to have class 1 as predicted class which seems to be logical case."
      ],
      "metadata": {
        "id": "1BUne0Y5hgE9"
      }
    },
    {
      "cell_type": "markdown",
      "source": [
        "# General interpretation\n",
        "According to the summary and SHAP feature importance plot, we can conclude that a high value for M/F feature wich means to be a man leads to an in increase in class 1 predicted probability.Plus, generally , a low value for eTIV and EDU feature will increase the probability of having the class 1 as a predicted class as the are on in second and third place for importance order.\n",
        "The ASF and SES feature have a negligible effect on the output since the SHAP values are close to 0 for most samples."
      ],
      "metadata": {
        "id": "b5pBcz3ahg2I"
      }
    },
    {
      "cell_type": "markdown",
      "source": [
        "#VII) Deep Learning"
      ],
      "metadata": {
        "id": "H74r44ukoZwH"
      }
    },
    {
      "cell_type": "markdown",
      "source": [
        "### 1)  Define the architecture"
      ],
      "metadata": {
        "id": "l2YLxyquoqMu"
      }
    },
    {
      "cell_type": "code",
      "source": [
        "#A Sequential model is appropriate for a plain stack of layers where each layer has exactly one input tensor and one output tensor.\n",
        "model = Sequential()\n",
        "model.add(Dense(32, input_shape=(6,), activation='relu'))\n",
        "model.add(Dropout(0.2))\n",
        "model.add(Dense(64, activation='relu'))\n",
        "model.add(Dropout(0.2))\n",
        "model.add(Dense(128, activation='relu'))\n",
        "model.add(Dropout(0.2))\n",
        "model.add(Dense(64, activation='relu'))\n",
        "model.add(Dropout(0.2))\n",
        "model.add(Dense(32, activation='relu'))\n",
        "model.add(Dropout(0.2))\n",
        "model.add(Dense(16, activation='relu'))\n",
        "model.add(Dropout(0.2))\n",
        "model.add(Dense(4, activation='relu'))\n",
        "model.add(Dropout(0.2))\n",
        "model.add(Dense(2, activation='softmax'))\n",
        "model.compile(loss=\"categorical_crossentropy\", optimizer=\"adam\", metrics=[\"accuracy\"])\n",
        "model.summary()"
      ],
      "metadata": {
        "id": "LzTPIxTllzpa",
        "colab": {
          "base_uri": "https://localhost:8080/"
        },
        "outputId": "24fd9574-ec4d-43c8-a960-586cbcfb2837"
      },
      "execution_count": null,
      "outputs": [
        {
          "output_type": "stream",
          "name": "stdout",
          "text": [
            "Model: \"sequential_1\"\n",
            "_________________________________________________________________\n",
            " Layer (type)                Output Shape              Param #   \n",
            "=================================================================\n",
            " dense_8 (Dense)             (None, 32)                224       \n",
            "                                                                 \n",
            " dropout_7 (Dropout)         (None, 32)                0         \n",
            "                                                                 \n",
            " dense_9 (Dense)             (None, 64)                2112      \n",
            "                                                                 \n",
            " dropout_8 (Dropout)         (None, 64)                0         \n",
            "                                                                 \n",
            " dense_10 (Dense)            (None, 128)               8320      \n",
            "                                                                 \n",
            " dropout_9 (Dropout)         (None, 128)               0         \n",
            "                                                                 \n",
            " dense_11 (Dense)            (None, 64)                8256      \n",
            "                                                                 \n",
            " dropout_10 (Dropout)        (None, 64)                0         \n",
            "                                                                 \n",
            " dense_12 (Dense)            (None, 32)                2080      \n",
            "                                                                 \n",
            " dropout_11 (Dropout)        (None, 32)                0         \n",
            "                                                                 \n",
            " dense_13 (Dense)            (None, 16)                528       \n",
            "                                                                 \n",
            " dropout_12 (Dropout)        (None, 16)                0         \n",
            "                                                                 \n",
            " dense_14 (Dense)            (None, 4)                 68        \n",
            "                                                                 \n",
            " dropout_13 (Dropout)        (None, 4)                 0         \n",
            "                                                                 \n",
            " dense_15 (Dense)            (None, 2)                 10        \n",
            "                                                                 \n",
            "=================================================================\n",
            "Total params: 21,598\n",
            "Trainable params: 21,598\n",
            "Non-trainable params: 0\n",
            "_________________________________________________________________\n"
          ]
        }
      ]
    },
    {
      "cell_type": "markdown",
      "source": [
        "### 2)  Train and evaluate a Deep Learning based  Classifier"
      ],
      "metadata": {
        "id": "JK61B1dNozG-"
      }
    },
    {
      "cell_type": "code",
      "source": [
        "y_test_cat = to_categorical(y_test, 2)\n",
        "y_train_cat =to_categorical(y_train, 2)\n",
        "model.fit(np.asarray(X_train), np.asarray(y_train_cat), validation_split=0.3, epochs=100, verbose=1,batch_size=4)\n",
        "model.evaluate(X_test,y_test_cat)"
      ],
      "metadata": {
        "id": "D3O-HQn_mOsN",
        "colab": {
          "base_uri": "https://localhost:8080/"
        },
        "outputId": "36f3907a-91a4-472b-a33a-30a81f0ea38a"
      },
      "execution_count": null,
      "outputs": [
        {
          "output_type": "stream",
          "name": "stdout",
          "text": [
            "Epoch 1/100\n",
            "46/46 [==============================] - 2s 11ms/step - loss: 0.6675 - accuracy: 0.5824 - val_loss: 0.6476 - val_accuracy: 0.6076\n",
            "Epoch 2/100\n",
            "46/46 [==============================] - 0s 5ms/step - loss: 0.6805 - accuracy: 0.5495 - val_loss: 0.6338 - val_accuracy: 0.6203\n",
            "Epoch 3/100\n",
            "46/46 [==============================] - 0s 5ms/step - loss: 0.6449 - accuracy: 0.5824 - val_loss: 0.6129 - val_accuracy: 0.6076\n",
            "Epoch 4/100\n",
            "46/46 [==============================] - 0s 5ms/step - loss: 0.6228 - accuracy: 0.6429 - val_loss: 0.6148 - val_accuracy: 0.6456\n",
            "Epoch 5/100\n",
            "46/46 [==============================] - 0s 5ms/step - loss: 0.6574 - accuracy: 0.6044 - val_loss: 0.6054 - val_accuracy: 0.6582\n",
            "Epoch 6/100\n",
            "46/46 [==============================] - 0s 5ms/step - loss: 0.6245 - accuracy: 0.6099 - val_loss: 0.6111 - val_accuracy: 0.6456\n",
            "Epoch 7/100\n",
            "46/46 [==============================] - 0s 5ms/step - loss: 0.6537 - accuracy: 0.5824 - val_loss: 0.6297 - val_accuracy: 0.5823\n",
            "Epoch 8/100\n",
            "46/46 [==============================] - 0s 5ms/step - loss: 0.6189 - accuracy: 0.6099 - val_loss: 0.6325 - val_accuracy: 0.5949\n",
            "Epoch 9/100\n",
            "46/46 [==============================] - 0s 5ms/step - loss: 0.6237 - accuracy: 0.6484 - val_loss: 0.6285 - val_accuracy: 0.6456\n",
            "Epoch 10/100\n",
            "46/46 [==============================] - 0s 5ms/step - loss: 0.6028 - accuracy: 0.6319 - val_loss: 0.6225 - val_accuracy: 0.6329\n",
            "Epoch 11/100\n",
            "46/46 [==============================] - 0s 5ms/step - loss: 0.6035 - accuracy: 0.6264 - val_loss: 0.6343 - val_accuracy: 0.6076\n",
            "Epoch 12/100\n",
            "46/46 [==============================] - 0s 5ms/step - loss: 0.6379 - accuracy: 0.6044 - val_loss: 0.6329 - val_accuracy: 0.6329\n",
            "Epoch 13/100\n",
            "46/46 [==============================] - 0s 5ms/step - loss: 0.6154 - accuracy: 0.6154 - val_loss: 0.6236 - val_accuracy: 0.6076\n",
            "Epoch 14/100\n",
            "46/46 [==============================] - 0s 5ms/step - loss: 0.5684 - accuracy: 0.6484 - val_loss: 0.6350 - val_accuracy: 0.6203\n",
            "Epoch 15/100\n",
            "46/46 [==============================] - 0s 5ms/step - loss: 0.6149 - accuracy: 0.6044 - val_loss: 0.6307 - val_accuracy: 0.6329\n",
            "Epoch 16/100\n",
            "46/46 [==============================] - 0s 6ms/step - loss: 0.6365 - accuracy: 0.6538 - val_loss: 0.6303 - val_accuracy: 0.5949\n",
            "Epoch 17/100\n",
            "46/46 [==============================] - 0s 6ms/step - loss: 0.6061 - accuracy: 0.6648 - val_loss: 0.6181 - val_accuracy: 0.6203\n",
            "Epoch 18/100\n",
            "46/46 [==============================] - 0s 5ms/step - loss: 0.5814 - accuracy: 0.6868 - val_loss: 0.6168 - val_accuracy: 0.6203\n",
            "Epoch 19/100\n",
            "46/46 [==============================] - 0s 6ms/step - loss: 0.5770 - accuracy: 0.6978 - val_loss: 0.6224 - val_accuracy: 0.6329\n",
            "Epoch 20/100\n",
            "46/46 [==============================] - 0s 5ms/step - loss: 0.5599 - accuracy: 0.7033 - val_loss: 0.6021 - val_accuracy: 0.6582\n",
            "Epoch 21/100\n",
            "46/46 [==============================] - 0s 5ms/step - loss: 0.5430 - accuracy: 0.7033 - val_loss: 0.6231 - val_accuracy: 0.6456\n",
            "Epoch 22/100\n",
            "46/46 [==============================] - 0s 5ms/step - loss: 0.5230 - accuracy: 0.7363 - val_loss: 0.6298 - val_accuracy: 0.6582\n",
            "Epoch 23/100\n",
            "46/46 [==============================] - 0s 6ms/step - loss: 0.5485 - accuracy: 0.7198 - val_loss: 0.6405 - val_accuracy: 0.6456\n",
            "Epoch 24/100\n",
            "46/46 [==============================] - 0s 5ms/step - loss: 0.5517 - accuracy: 0.7637 - val_loss: 0.5986 - val_accuracy: 0.6709\n",
            "Epoch 25/100\n",
            "46/46 [==============================] - 0s 5ms/step - loss: 0.5491 - accuracy: 0.7308 - val_loss: 0.6043 - val_accuracy: 0.6709\n",
            "Epoch 26/100\n",
            "46/46 [==============================] - 0s 5ms/step - loss: 0.5024 - accuracy: 0.7692 - val_loss: 0.6306 - val_accuracy: 0.6582\n",
            "Epoch 27/100\n",
            "46/46 [==============================] - 0s 4ms/step - loss: 0.5719 - accuracy: 0.6923 - val_loss: 0.6063 - val_accuracy: 0.6962\n",
            "Epoch 28/100\n",
            "46/46 [==============================] - 0s 4ms/step - loss: 0.5377 - accuracy: 0.7473 - val_loss: 0.6082 - val_accuracy: 0.6582\n",
            "Epoch 29/100\n",
            "46/46 [==============================] - 0s 5ms/step - loss: 0.5475 - accuracy: 0.7088 - val_loss: 0.6224 - val_accuracy: 0.6835\n",
            "Epoch 30/100\n",
            "46/46 [==============================] - 0s 4ms/step - loss: 0.5314 - accuracy: 0.7308 - val_loss: 0.6634 - val_accuracy: 0.6456\n",
            "Epoch 31/100\n",
            "46/46 [==============================] - 0s 5ms/step - loss: 0.5557 - accuracy: 0.7198 - val_loss: 0.6253 - val_accuracy: 0.6835\n",
            "Epoch 32/100\n",
            "46/46 [==============================] - 0s 5ms/step - loss: 0.5206 - accuracy: 0.7527 - val_loss: 0.6520 - val_accuracy: 0.6835\n",
            "Epoch 33/100\n",
            "46/46 [==============================] - 0s 6ms/step - loss: 0.5376 - accuracy: 0.6868 - val_loss: 0.6461 - val_accuracy: 0.6582\n",
            "Epoch 34/100\n",
            "46/46 [==============================] - 0s 6ms/step - loss: 0.4922 - accuracy: 0.7747 - val_loss: 0.6695 - val_accuracy: 0.6456\n",
            "Epoch 35/100\n",
            "46/46 [==============================] - 0s 5ms/step - loss: 0.5133 - accuracy: 0.7692 - val_loss: 0.6520 - val_accuracy: 0.7089\n",
            "Epoch 36/100\n",
            "46/46 [==============================] - 0s 6ms/step - loss: 0.5240 - accuracy: 0.7088 - val_loss: 0.6658 - val_accuracy: 0.6582\n",
            "Epoch 37/100\n",
            "46/46 [==============================] - 0s 5ms/step - loss: 0.5139 - accuracy: 0.7308 - val_loss: 0.6773 - val_accuracy: 0.6962\n",
            "Epoch 38/100\n",
            "46/46 [==============================] - 0s 5ms/step - loss: 0.4348 - accuracy: 0.8022 - val_loss: 0.7337 - val_accuracy: 0.7089\n",
            "Epoch 39/100\n",
            "46/46 [==============================] - 0s 4ms/step - loss: 0.4592 - accuracy: 0.7582 - val_loss: 0.7426 - val_accuracy: 0.6709\n",
            "Epoch 40/100\n",
            "46/46 [==============================] - 0s 5ms/step - loss: 0.4551 - accuracy: 0.7692 - val_loss: 0.6781 - val_accuracy: 0.7089\n",
            "Epoch 41/100\n",
            "46/46 [==============================] - 0s 6ms/step - loss: 0.4971 - accuracy: 0.7198 - val_loss: 0.6545 - val_accuracy: 0.7215\n",
            "Epoch 42/100\n",
            "46/46 [==============================] - 0s 5ms/step - loss: 0.5218 - accuracy: 0.7308 - val_loss: 0.6436 - val_accuracy: 0.7215\n",
            "Epoch 43/100\n",
            "46/46 [==============================] - 0s 5ms/step - loss: 0.4538 - accuracy: 0.7637 - val_loss: 0.6886 - val_accuracy: 0.7089\n",
            "Epoch 44/100\n",
            "46/46 [==============================] - 0s 5ms/step - loss: 0.4787 - accuracy: 0.7473 - val_loss: 0.7295 - val_accuracy: 0.6582\n",
            "Epoch 45/100\n",
            "46/46 [==============================] - 0s 5ms/step - loss: 0.4880 - accuracy: 0.7418 - val_loss: 0.6615 - val_accuracy: 0.7089\n",
            "Epoch 46/100\n",
            "46/46 [==============================] - 0s 5ms/step - loss: 0.4593 - accuracy: 0.7692 - val_loss: 0.7064 - val_accuracy: 0.6835\n",
            "Epoch 47/100\n",
            "46/46 [==============================] - 0s 6ms/step - loss: 0.4697 - accuracy: 0.7637 - val_loss: 0.7110 - val_accuracy: 0.7342\n",
            "Epoch 48/100\n",
            "46/46 [==============================] - 0s 5ms/step - loss: 0.4395 - accuracy: 0.7912 - val_loss: 0.7864 - val_accuracy: 0.6709\n",
            "Epoch 49/100\n",
            "46/46 [==============================] - 0s 5ms/step - loss: 0.4727 - accuracy: 0.8022 - val_loss: 0.7138 - val_accuracy: 0.7342\n",
            "Epoch 50/100\n",
            "46/46 [==============================] - 0s 4ms/step - loss: 0.4399 - accuracy: 0.7967 - val_loss: 0.7335 - val_accuracy: 0.7342\n",
            "Epoch 51/100\n",
            "46/46 [==============================] - 0s 5ms/step - loss: 0.4734 - accuracy: 0.7747 - val_loss: 0.7074 - val_accuracy: 0.7342\n",
            "Epoch 52/100\n",
            "46/46 [==============================] - 0s 5ms/step - loss: 0.5243 - accuracy: 0.7802 - val_loss: 0.6400 - val_accuracy: 0.7342\n",
            "Epoch 53/100\n",
            "46/46 [==============================] - 0s 6ms/step - loss: 0.4562 - accuracy: 0.7582 - val_loss: 0.6759 - val_accuracy: 0.7215\n",
            "Epoch 54/100\n",
            "46/46 [==============================] - 0s 5ms/step - loss: 0.4620 - accuracy: 0.7912 - val_loss: 0.7308 - val_accuracy: 0.7342\n",
            "Epoch 55/100\n",
            "46/46 [==============================] - 0s 6ms/step - loss: 0.4091 - accuracy: 0.7802 - val_loss: 0.8006 - val_accuracy: 0.6835\n",
            "Epoch 56/100\n",
            "46/46 [==============================] - 0s 6ms/step - loss: 0.4493 - accuracy: 0.7582 - val_loss: 0.7489 - val_accuracy: 0.7595\n",
            "Epoch 57/100\n",
            "46/46 [==============================] - 0s 5ms/step - loss: 0.4129 - accuracy: 0.7747 - val_loss: 0.7905 - val_accuracy: 0.7215\n",
            "Epoch 58/100\n",
            "46/46 [==============================] - 0s 6ms/step - loss: 0.4938 - accuracy: 0.7582 - val_loss: 0.7645 - val_accuracy: 0.7595\n",
            "Epoch 59/100\n",
            "46/46 [==============================] - 0s 4ms/step - loss: 0.4755 - accuracy: 0.7473 - val_loss: 0.7326 - val_accuracy: 0.7342\n",
            "Epoch 60/100\n",
            "46/46 [==============================] - 0s 5ms/step - loss: 0.4556 - accuracy: 0.7692 - val_loss: 0.7277 - val_accuracy: 0.7468\n",
            "Epoch 61/100\n",
            "46/46 [==============================] - 0s 5ms/step - loss: 0.3887 - accuracy: 0.8187 - val_loss: 0.8229 - val_accuracy: 0.6962\n",
            "Epoch 62/100\n",
            "46/46 [==============================] - 0s 5ms/step - loss: 0.3967 - accuracy: 0.8242 - val_loss: 0.8123 - val_accuracy: 0.7468\n",
            "Epoch 63/100\n",
            "46/46 [==============================] - 0s 6ms/step - loss: 0.3924 - accuracy: 0.8407 - val_loss: 0.7545 - val_accuracy: 0.7468\n",
            "Epoch 64/100\n",
            "46/46 [==============================] - 0s 5ms/step - loss: 0.4204 - accuracy: 0.8022 - val_loss: 0.8217 - val_accuracy: 0.7595\n",
            "Epoch 65/100\n",
            "46/46 [==============================] - 0s 6ms/step - loss: 0.3892 - accuracy: 0.7637 - val_loss: 0.8519 - val_accuracy: 0.7215\n",
            "Epoch 66/100\n",
            "46/46 [==============================] - 0s 5ms/step - loss: 0.3578 - accuracy: 0.8571 - val_loss: 0.9051 - val_accuracy: 0.7215\n",
            "Epoch 67/100\n",
            "46/46 [==============================] - 0s 5ms/step - loss: 0.3787 - accuracy: 0.8242 - val_loss: 0.8339 - val_accuracy: 0.7342\n",
            "Epoch 68/100\n",
            "46/46 [==============================] - 0s 6ms/step - loss: 0.3624 - accuracy: 0.8242 - val_loss: 0.8728 - val_accuracy: 0.7342\n",
            "Epoch 69/100\n",
            "46/46 [==============================] - 0s 6ms/step - loss: 0.4116 - accuracy: 0.7802 - val_loss: 0.8484 - val_accuracy: 0.7468\n",
            "Epoch 70/100\n",
            "46/46 [==============================] - 0s 5ms/step - loss: 0.4459 - accuracy: 0.7253 - val_loss: 0.8790 - val_accuracy: 0.7215\n",
            "Epoch 71/100\n",
            "46/46 [==============================] - 0s 5ms/step - loss: 0.3803 - accuracy: 0.7857 - val_loss: 0.8935 - val_accuracy: 0.7342\n",
            "Epoch 72/100\n",
            "46/46 [==============================] - 0s 4ms/step - loss: 0.3774 - accuracy: 0.7967 - val_loss: 0.9915 - val_accuracy: 0.7342\n",
            "Epoch 73/100\n",
            "46/46 [==============================] - 0s 5ms/step - loss: 0.3919 - accuracy: 0.8242 - val_loss: 0.9592 - val_accuracy: 0.7468\n",
            "Epoch 74/100\n",
            "46/46 [==============================] - 0s 5ms/step - loss: 0.4423 - accuracy: 0.7857 - val_loss: 0.8663 - val_accuracy: 0.7342\n",
            "Epoch 75/100\n",
            "46/46 [==============================] - 0s 6ms/step - loss: 0.4924 - accuracy: 0.7912 - val_loss: 0.8757 - val_accuracy: 0.7468\n",
            "Epoch 76/100\n",
            "46/46 [==============================] - 0s 5ms/step - loss: 0.3971 - accuracy: 0.7802 - val_loss: 0.7742 - val_accuracy: 0.7595\n",
            "Epoch 77/100\n",
            "46/46 [==============================] - 0s 6ms/step - loss: 0.3571 - accuracy: 0.8132 - val_loss: 0.8353 - val_accuracy: 0.7595\n",
            "Epoch 78/100\n",
            "46/46 [==============================] - 0s 6ms/step - loss: 0.3563 - accuracy: 0.8407 - val_loss: 0.8781 - val_accuracy: 0.7722\n",
            "Epoch 79/100\n",
            "46/46 [==============================] - 0s 5ms/step - loss: 0.3491 - accuracy: 0.8077 - val_loss: 0.8787 - val_accuracy: 0.7722\n",
            "Epoch 80/100\n",
            "46/46 [==============================] - 0s 5ms/step - loss: 0.3549 - accuracy: 0.8462 - val_loss: 0.9308 - val_accuracy: 0.7215\n",
            "Epoch 81/100\n",
            "46/46 [==============================] - 0s 6ms/step - loss: 0.4215 - accuracy: 0.8022 - val_loss: 0.9023 - val_accuracy: 0.7468\n",
            "Epoch 82/100\n",
            "46/46 [==============================] - 0s 5ms/step - loss: 0.3520 - accuracy: 0.8297 - val_loss: 0.9468 - val_accuracy: 0.7089\n",
            "Epoch 83/100\n",
            "46/46 [==============================] - 0s 5ms/step - loss: 0.3292 - accuracy: 0.8352 - val_loss: 1.0084 - val_accuracy: 0.7215\n",
            "Epoch 84/100\n",
            "46/46 [==============================] - 0s 5ms/step - loss: 0.3805 - accuracy: 0.8462 - val_loss: 0.9320 - val_accuracy: 0.7089\n",
            "Epoch 85/100\n",
            "46/46 [==============================] - 0s 5ms/step - loss: 0.3457 - accuracy: 0.8352 - val_loss: 0.9658 - val_accuracy: 0.7342\n",
            "Epoch 86/100\n",
            "46/46 [==============================] - 0s 6ms/step - loss: 0.3370 - accuracy: 0.8297 - val_loss: 0.9707 - val_accuracy: 0.7595\n",
            "Epoch 87/100\n",
            "46/46 [==============================] - 0s 6ms/step - loss: 0.4384 - accuracy: 0.7857 - val_loss: 0.8010 - val_accuracy: 0.7595\n",
            "Epoch 88/100\n",
            "46/46 [==============================] - 0s 5ms/step - loss: 0.3663 - accuracy: 0.8187 - val_loss: 0.8580 - val_accuracy: 0.7342\n",
            "Epoch 89/100\n",
            "46/46 [==============================] - 0s 5ms/step - loss: 0.3045 - accuracy: 0.8626 - val_loss: 0.9831 - val_accuracy: 0.7342\n",
            "Epoch 90/100\n",
            "46/46 [==============================] - 0s 4ms/step - loss: 0.3801 - accuracy: 0.8077 - val_loss: 0.9450 - val_accuracy: 0.7468\n",
            "Epoch 91/100\n",
            "46/46 [==============================] - 0s 6ms/step - loss: 0.4254 - accuracy: 0.7912 - val_loss: 0.8120 - val_accuracy: 0.7595\n",
            "Epoch 92/100\n",
            "46/46 [==============================] - 0s 6ms/step - loss: 0.3881 - accuracy: 0.8242 - val_loss: 0.8470 - val_accuracy: 0.7468\n",
            "Epoch 93/100\n",
            "46/46 [==============================] - 0s 5ms/step - loss: 0.3447 - accuracy: 0.8462 - val_loss: 0.8925 - val_accuracy: 0.7595\n",
            "Epoch 94/100\n",
            "46/46 [==============================] - 0s 5ms/step - loss: 0.3136 - accuracy: 0.8516 - val_loss: 0.9716 - val_accuracy: 0.7342\n",
            "Epoch 95/100\n",
            "46/46 [==============================] - 0s 6ms/step - loss: 0.3533 - accuracy: 0.8407 - val_loss: 1.0455 - val_accuracy: 0.7595\n",
            "Epoch 96/100\n",
            "46/46 [==============================] - 0s 5ms/step - loss: 0.3794 - accuracy: 0.8352 - val_loss: 0.9209 - val_accuracy: 0.7595\n",
            "Epoch 97/100\n",
            "46/46 [==============================] - 0s 5ms/step - loss: 0.3339 - accuracy: 0.8626 - val_loss: 0.9859 - val_accuracy: 0.7468\n",
            "Epoch 98/100\n",
            "46/46 [==============================] - 0s 6ms/step - loss: 0.3265 - accuracy: 0.8352 - val_loss: 1.0196 - val_accuracy: 0.7595\n",
            "Epoch 99/100\n",
            "46/46 [==============================] - 0s 6ms/step - loss: 0.3604 - accuracy: 0.7967 - val_loss: 1.0258 - val_accuracy: 0.7595\n",
            "Epoch 100/100\n",
            "46/46 [==============================] - 0s 4ms/step - loss: 0.3825 - accuracy: 0.8242 - val_loss: 1.0376 - val_accuracy: 0.7595\n",
            "4/4 [==============================] - 0s 4ms/step - loss: 1.1337 - accuracy: 0.7679\n"
          ]
        },
        {
          "output_type": "execute_result",
          "data": {
            "text/plain": [
              "[1.133725643157959, 0.7678571343421936]"
            ]
          },
          "metadata": {},
          "execution_count": 42
        }
      ]
    },
    {
      "cell_type": "markdown",
      "source": [
        "### 2)  Global interpreation of the DL classifier\n",
        "**TODO: interpretate the obtained results**"
      ],
      "metadata": {
        "id": "bU5zclPmpJEn"
      }
    },
    {
      "cell_type": "code",
      "source": [
        "explainer = shap.KernelExplainer(model.predict,X_train_DF)\n",
        "shap_values = explainer.shap_values(X_test_DF)\n",
        "\n",
        "# visualize the first prediction's explanation with a summary plot\n",
        "shap.summary_plot(shap_values, X_test_DF,feature_names=[\"M/F\", \"Age\",\"EDUC\",\"SES\",\"eTIV\",\"ASF\"])"
      ],
      "metadata": {
        "id": "jYcoaKK-nmp0",
        "colab": {
          "base_uri": "https://localhost:8080/",
          "height": 1000,
          "referenced_widgets": [
            "de719ee73b7f4e5dadb94e1d5841f16d",
            "e44598d4402b4575b08979dd780b30fc",
            "ddc64b119d14429f8d8479c62662bb74",
            "83319891b3ae483c973a68905ca81e27",
            "3466e3c03b8647cd8f798db9b52f9608",
            "f5d96933374844e88c5bb185fb2eaf9b",
            "59285a8d5b9849a1bda8bed70c7bb3a1",
            "f0795a1cc7854eff975848d99678174c",
            "b9a4a9a770a1498fb29ef707ee7b30ed",
            "7e7d225edc854dd09b3d9bfe66eeaca0",
            "dbcd0af6e17649ca8e5dd5fb74f7dcea"
          ]
        },
        "outputId": "3a90f98b-c221-4e26-92f5-a67c833c22e9"
      },
      "execution_count": null,
      "outputs": [
        {
          "output_type": "stream",
          "name": "stdout",
          "text": [
            "9/9 [==============================] - 0s 2ms/step\n"
          ]
        },
        {
          "output_type": "stream",
          "name": "stderr",
          "text": [
            "WARNING:shap:Using 261 background data samples could cause slower run times. Consider using shap.sample(data, K) or shap.kmeans(data, K) to summarize the background as K samples.\n"
          ]
        },
        {
          "output_type": "display_data",
          "data": {
            "text/plain": [
              "  0%|          | 0/112 [00:00<?, ?it/s]"
            ],
            "application/vnd.jupyter.widget-view+json": {
              "version_major": 2,
              "version_minor": 0,
              "model_id": "de719ee73b7f4e5dadb94e1d5841f16d"
            }
          },
          "metadata": {}
        },
        {
          "output_type": "stream",
          "name": "stdout",
          "text": [
            "1/1 [==============================] - 0s 19ms/step\n",
            "506/506 [==============================] - 1s 2ms/step\n",
            "1/1 [==============================] - 0s 28ms/step\n",
            "506/506 [==============================] - 1s 2ms/step\n",
            "1/1 [==============================] - 0s 21ms/step\n",
            "506/506 [==============================] - 1s 2ms/step\n",
            "1/1 [==============================] - 0s 25ms/step\n",
            "506/506 [==============================] - 1s 2ms/step\n",
            "1/1 [==============================] - 0s 22ms/step\n",
            "506/506 [==============================] - 1s 2ms/step\n",
            "1/1 [==============================] - 0s 25ms/step\n",
            "506/506 [==============================] - 1s 2ms/step\n",
            "1/1 [==============================] - 0s 22ms/step\n",
            "506/506 [==============================] - 1s 2ms/step\n",
            "1/1 [==============================] - 0s 24ms/step\n",
            "506/506 [==============================] - 1s 2ms/step\n",
            "1/1 [==============================] - 0s 21ms/step\n",
            "506/506 [==============================] - 1s 2ms/step\n",
            "1/1 [==============================] - 0s 21ms/step\n",
            "506/506 [==============================] - 1s 2ms/step\n",
            "1/1 [==============================] - 0s 20ms/step\n",
            "506/506 [==============================] - 1s 2ms/step\n",
            "1/1 [==============================] - 0s 21ms/step\n",
            "506/506 [==============================] - 1s 2ms/step\n",
            "1/1 [==============================] - 0s 20ms/step\n",
            "506/506 [==============================] - 1s 2ms/step\n",
            "1/1 [==============================] - 0s 23ms/step\n",
            "506/506 [==============================] - 1s 2ms/step\n",
            "1/1 [==============================] - 0s 26ms/step\n",
            "506/506 [==============================] - 1s 2ms/step\n",
            "1/1 [==============================] - 0s 28ms/step\n",
            "506/506 [==============================] - 1s 2ms/step\n",
            "1/1 [==============================] - 0s 23ms/step\n",
            "506/506 [==============================] - 1s 2ms/step\n",
            "1/1 [==============================] - 0s 21ms/step\n",
            "506/506 [==============================] - 1s 2ms/step\n",
            "1/1 [==============================] - 0s 21ms/step\n",
            "506/506 [==============================] - 1s 2ms/step\n",
            "1/1 [==============================] - 0s 28ms/step\n",
            "506/506 [==============================] - 1s 2ms/step\n",
            "1/1 [==============================] - 0s 30ms/step\n",
            "506/506 [==============================] - 1s 2ms/step\n",
            "1/1 [==============================] - 0s 23ms/step\n",
            "506/506 [==============================] - 1s 2ms/step\n",
            "1/1 [==============================] - 0s 23ms/step\n",
            "506/506 [==============================] - 1s 2ms/step\n",
            "1/1 [==============================] - 0s 22ms/step\n",
            "506/506 [==============================] - 1s 2ms/step\n",
            "1/1 [==============================] - 0s 22ms/step\n",
            "506/506 [==============================] - 1s 2ms/step\n",
            "1/1 [==============================] - 0s 22ms/step\n",
            "506/506 [==============================] - 1s 2ms/step\n",
            "1/1 [==============================] - 0s 20ms/step\n",
            "506/506 [==============================] - 1s 2ms/step\n",
            "1/1 [==============================] - 0s 25ms/step\n",
            "506/506 [==============================] - 1s 2ms/step\n",
            "1/1 [==============================] - 0s 21ms/step\n",
            "506/506 [==============================] - 1s 2ms/step\n",
            "1/1 [==============================] - 0s 22ms/step\n",
            "506/506 [==============================] - 1s 2ms/step\n",
            "1/1 [==============================] - 0s 21ms/step\n",
            "506/506 [==============================] - 1s 2ms/step\n",
            "1/1 [==============================] - 0s 21ms/step\n",
            "506/506 [==============================] - 1s 2ms/step\n",
            "1/1 [==============================] - 0s 22ms/step\n",
            "506/506 [==============================] - 1s 2ms/step\n",
            "1/1 [==============================] - 0s 21ms/step\n",
            "506/506 [==============================] - 1s 2ms/step\n",
            "1/1 [==============================] - 0s 20ms/step\n",
            "506/506 [==============================] - 1s 2ms/step\n",
            "1/1 [==============================] - 0s 26ms/step\n",
            "506/506 [==============================] - 1s 2ms/step\n",
            "1/1 [==============================] - 0s 22ms/step\n",
            "506/506 [==============================] - 1s 2ms/step\n",
            "1/1 [==============================] - 0s 23ms/step\n",
            "506/506 [==============================] - 1s 2ms/step\n",
            "1/1 [==============================] - 0s 28ms/step\n",
            "506/506 [==============================] - 1s 2ms/step\n",
            "1/1 [==============================] - 0s 22ms/step\n",
            "506/506 [==============================] - 1s 2ms/step\n",
            "1/1 [==============================] - 0s 21ms/step\n",
            "506/506 [==============================] - 1s 2ms/step\n",
            "1/1 [==============================] - 0s 21ms/step\n",
            "506/506 [==============================] - 1s 2ms/step\n",
            "1/1 [==============================] - 0s 20ms/step\n",
            "506/506 [==============================] - 1s 2ms/step\n",
            "1/1 [==============================] - 0s 21ms/step\n",
            "506/506 [==============================] - 1s 2ms/step\n",
            "1/1 [==============================] - 0s 23ms/step\n",
            "506/506 [==============================] - 1s 2ms/step\n",
            "1/1 [==============================] - 0s 28ms/step\n",
            "506/506 [==============================] - 1s 3ms/step\n",
            "1/1 [==============================] - 0s 30ms/step\n",
            "506/506 [==============================] - 1s 2ms/step\n",
            "1/1 [==============================] - 0s 21ms/step\n",
            "506/506 [==============================] - 1s 2ms/step\n",
            "1/1 [==============================] - 0s 21ms/step\n",
            "506/506 [==============================] - 1s 2ms/step\n",
            "1/1 [==============================] - 0s 21ms/step\n",
            "506/506 [==============================] - 1s 2ms/step\n",
            "1/1 [==============================] - 0s 21ms/step\n",
            "506/506 [==============================] - 1s 2ms/step\n",
            "1/1 [==============================] - 0s 21ms/step\n",
            "506/506 [==============================] - 1s 2ms/step\n",
            "1/1 [==============================] - 0s 23ms/step\n",
            "506/506 [==============================] - 1s 2ms/step\n",
            "1/1 [==============================] - 0s 20ms/step\n",
            "506/506 [==============================] - 1s 2ms/step\n",
            "1/1 [==============================] - 0s 21ms/step\n",
            "506/506 [==============================] - 1s 2ms/step\n",
            "1/1 [==============================] - 0s 21ms/step\n",
            "506/506 [==============================] - 1s 2ms/step\n",
            "1/1 [==============================] - 0s 29ms/step\n",
            "506/506 [==============================] - 1s 2ms/step\n",
            "1/1 [==============================] - 0s 22ms/step\n",
            "506/506 [==============================] - 1s 2ms/step\n",
            "1/1 [==============================] - 0s 22ms/step\n",
            "506/506 [==============================] - 1s 2ms/step\n",
            "1/1 [==============================] - 0s 20ms/step\n",
            "506/506 [==============================] - 1s 2ms/step\n",
            "1/1 [==============================] - 0s 22ms/step\n",
            "506/506 [==============================] - 1s 2ms/step\n",
            "1/1 [==============================] - 0s 21ms/step\n",
            "506/506 [==============================] - 1s 2ms/step\n",
            "1/1 [==============================] - 0s 22ms/step\n",
            "506/506 [==============================] - 1s 2ms/step\n",
            "1/1 [==============================] - 0s 20ms/step\n",
            "506/506 [==============================] - 1s 2ms/step\n",
            "1/1 [==============================] - 0s 21ms/step\n",
            "506/506 [==============================] - 1s 2ms/step\n",
            "1/1 [==============================] - 0s 21ms/step\n",
            "506/506 [==============================] - 1s 2ms/step\n",
            "1/1 [==============================] - 0s 24ms/step\n",
            "506/506 [==============================] - 1s 2ms/step\n",
            "1/1 [==============================] - 0s 20ms/step\n",
            "506/506 [==============================] - 1s 2ms/step\n",
            "1/1 [==============================] - 0s 22ms/step\n",
            "506/506 [==============================] - 1s 2ms/step\n",
            "1/1 [==============================] - 0s 31ms/step\n",
            "506/506 [==============================] - 1s 2ms/step\n",
            "1/1 [==============================] - 0s 25ms/step\n",
            "506/506 [==============================] - 1s 2ms/step\n",
            "1/1 [==============================] - 0s 22ms/step\n",
            "506/506 [==============================] - 1s 2ms/step\n",
            "1/1 [==============================] - 0s 22ms/step\n",
            "506/506 [==============================] - 1s 2ms/step\n",
            "1/1 [==============================] - 0s 22ms/step\n",
            "506/506 [==============================] - 1s 2ms/step\n",
            "1/1 [==============================] - 0s 23ms/step\n",
            "506/506 [==============================] - 1s 2ms/step\n",
            "1/1 [==============================] - 0s 21ms/step\n",
            "506/506 [==============================] - 1s 2ms/step\n",
            "1/1 [==============================] - 0s 20ms/step\n",
            "506/506 [==============================] - 1s 2ms/step\n",
            "1/1 [==============================] - 0s 22ms/step\n",
            "506/506 [==============================] - 1s 2ms/step\n",
            "1/1 [==============================] - 0s 21ms/step\n",
            "506/506 [==============================] - 1s 2ms/step\n",
            "1/1 [==============================] - 0s 22ms/step\n",
            "506/506 [==============================] - 1s 2ms/step\n",
            "1/1 [==============================] - 0s 22ms/step\n",
            "506/506 [==============================] - 1s 2ms/step\n",
            "1/1 [==============================] - 0s 21ms/step\n",
            "506/506 [==============================] - 1s 2ms/step\n",
            "1/1 [==============================] - 0s 20ms/step\n",
            "506/506 [==============================] - 1s 2ms/step\n",
            "1/1 [==============================] - 0s 21ms/step\n",
            "506/506 [==============================] - 1s 2ms/step\n",
            "1/1 [==============================] - 0s 24ms/step\n",
            "506/506 [==============================] - 1s 2ms/step\n",
            "1/1 [==============================] - 0s 21ms/step\n",
            "506/506 [==============================] - 1s 2ms/step\n",
            "1/1 [==============================] - 0s 21ms/step\n",
            "506/506 [==============================] - 1s 2ms/step\n",
            "1/1 [==============================] - 0s 22ms/step\n",
            "506/506 [==============================] - 1s 2ms/step\n",
            "1/1 [==============================] - 0s 20ms/step\n",
            "506/506 [==============================] - 1s 2ms/step\n",
            "1/1 [==============================] - 0s 23ms/step\n",
            "506/506 [==============================] - 1s 2ms/step\n",
            "1/1 [==============================] - 0s 21ms/step\n",
            "506/506 [==============================] - 1s 2ms/step\n",
            "1/1 [==============================] - 0s 22ms/step\n",
            "506/506 [==============================] - 1s 2ms/step\n",
            "1/1 [==============================] - 0s 22ms/step\n",
            "506/506 [==============================] - 1s 2ms/step\n",
            "1/1 [==============================] - 0s 24ms/step\n",
            "506/506 [==============================] - 1s 2ms/step\n",
            "1/1 [==============================] - 0s 20ms/step\n",
            "506/506 [==============================] - 1s 2ms/step\n",
            "1/1 [==============================] - 0s 25ms/step\n",
            "506/506 [==============================] - 1s 2ms/step\n",
            "1/1 [==============================] - 0s 21ms/step\n",
            "506/506 [==============================] - 1s 2ms/step\n",
            "1/1 [==============================] - 0s 24ms/step\n",
            "506/506 [==============================] - 1s 2ms/step\n",
            "1/1 [==============================] - 0s 22ms/step\n",
            "506/506 [==============================] - 1s 2ms/step\n",
            "1/1 [==============================] - 0s 22ms/step\n",
            "506/506 [==============================] - 1s 2ms/step\n",
            "1/1 [==============================] - 0s 26ms/step\n",
            "506/506 [==============================] - 1s 2ms/step\n",
            "1/1 [==============================] - 0s 22ms/step\n",
            "506/506 [==============================] - 1s 2ms/step\n",
            "1/1 [==============================] - 0s 21ms/step\n",
            "506/506 [==============================] - 1s 2ms/step\n",
            "1/1 [==============================] - 0s 22ms/step\n",
            "506/506 [==============================] - 1s 2ms/step\n",
            "1/1 [==============================] - 0s 21ms/step\n",
            "506/506 [==============================] - 1s 2ms/step\n",
            "1/1 [==============================] - 0s 23ms/step\n",
            "506/506 [==============================] - 1s 2ms/step\n",
            "1/1 [==============================] - 0s 21ms/step\n",
            "506/506 [==============================] - 1s 2ms/step\n",
            "1/1 [==============================] - 0s 28ms/step\n",
            "506/506 [==============================] - 1s 2ms/step\n",
            "1/1 [==============================] - 0s 21ms/step\n",
            "506/506 [==============================] - 1s 2ms/step\n",
            "1/1 [==============================] - 0s 21ms/step\n",
            "506/506 [==============================] - 1s 2ms/step\n",
            "1/1 [==============================] - 0s 21ms/step\n",
            "506/506 [==============================] - 1s 2ms/step\n",
            "1/1 [==============================] - 0s 22ms/step\n",
            "506/506 [==============================] - 1s 2ms/step\n"
          ]
        },
        {
          "output_type": "display_data",
          "data": {
            "text/plain": [
              "<Figure size 576x280.8 with 1 Axes>"
            ],
            "image/png": "[encoded data removed]"
          },
          "metadata": {
            "needs_background": "light"
          }
        }
      ]
    },
    {
      "cell_type": "markdown",
      "source": [
        "As a first observation of SHAP feature importance plot, we remark that the M/F feature as usual has the important role for the prediction of the output class (increasing or decreasing) by changing the predicted output probability by 40% Plus, the SES and ASF features have an average impact less than 0.1 on the prediction result .So they are the less important features fot the prediction probability.\n",
        "\n",
        " This plot is unsufficient to be interpreted since it hides what is beyond the feature's importance."
      ],
      "metadata": {
        "id": "VcxQv5xDpSz1"
      }
    },
    {
      "cell_type": "code",
      "source": [
        "#Explanation according to one class (0 or 1)\n",
        "shap.summary_plot(shap_values[1], X_test_DF,feature_names=[\"M/F\", \"Age\",\"EDUC\",\"SES\",\"eTIV\",\"ASF\"])"
      ],
      "metadata": {
        "id": "sawCSaC0pS9e",
        "colab": {
          "base_uri": "https://localhost:8080/",
          "height": 290
        },
        "outputId": "a5fa23fa-fe1a-4349-df62-df6ac81009ea"
      },
      "execution_count": null,
      "outputs": [
        {
          "output_type": "display_data",
          "data": {
            "text/plain": [
              "<Figure size 576x280.8 with 2 Axes>"
            ],
            "image/png": "[encoded data removed]"
          },
          "metadata": {
            "needs_background": "light"
          }
        }
      ]
    },
    {
      "cell_type": "markdown",
      "source": [
        "Similar to the previous classifier, The M/F is the most important feature; a high value will lead to an increase of the preficted probability.\n",
        "Moreover, the EDU feature have many samples with extreme SHAP values so it can has an important role for the predicted output.\n",
        "\n",
        " As shown in the figure above,the samples for the SES and ASF features have SHAP values close to 0."
      ],
      "metadata": {
        "id": "arGzfJwesErr"
      }
    },
    {
      "cell_type": "code",
      "source": [
        "print(\"SHAP values for sample 0 pour classe 1\",shap_values[1][0])#pour la deuxieme question\n",
        "print(\"and the predicted class is\",y_pred[0])"
      ],
      "metadata": {
        "colab": {
          "base_uri": "https://localhost:8080/"
        },
        "id": "AXo9NdCmpWdc",
        "outputId": "286da07f-3e27-422e-995d-080f02821db8"
      },
      "execution_count": null,
      "outputs": [
        {
          "output_type": "stream",
          "name": "stdout",
          "text": [
            "SHAP values for sample 0 pour classe 1 [-0.15703261  0.01067906 -0.03158209  0.08419403  0.04814898  0.01916743]\n",
            "and the predicted class is 0\n"
          ]
        }
      ]
    },
    {
      "cell_type": "markdown",
      "source": [
        "According to the SHAP value shown for the sample0, the M/F feature has the highest negative value , so it has affected hardly the output prediction.Its value had decreased the probability of having the class 1 as an output which is the case.Other values are close to 0 and negligible compared with M/F 's value."
      ],
      "metadata": {
        "id": "5Wd_jBS_pWSq"
      }
    },
    {
      "cell_type": "code",
      "source": [
        "print(\"SHAP values for sample 3 pour classe 1\",shap_values[1][2])#pour la deuxieme question\n",
        "print(\"and the predicted class is\",y_pred[2])"
      ],
      "metadata": {
        "colab": {
          "base_uri": "https://localhost:8080/"
        },
        "id": "Vdd3cfk7pWE_",
        "outputId": "315b49ff-846b-4aeb-8105-46bf8506edc2"
      },
      "execution_count": null,
      "outputs": [
        {
          "output_type": "stream",
          "name": "stdout",
          "text": [
            "SHAP values for sample 3 pour classe 1 [ 0.24811672  0.00413119 -0.18298653 -0.02394428 -0.06396772 -0.00292709]\n",
            "and the predicted class is 1\n"
          ]
        }
      ]
    },
    {
      "cell_type": "markdown",
      "source": [
        "Despite of having a negative SHAP value for the EDU feature , the predicted class is 1.This can be explained by the fact that we have a high positive value for M/F feature.This exemple show us the importance of this feature compared with other ones."
      ],
      "metadata": {
        "id": "xJ8fxJd2s8A2"
      }
    },
    {
      "cell_type": "markdown",
      "source": [
        "# General interpretation\n",
        "According to the summary and SHAP feature importance plot, we can say that a high value for M/F feature  leads to a significant  increase in class 1 predicted probability.Plus, generally , a low value for  EDU feature will increase the probability of having the class 1 as a predicted class as it cames in the second place for the importance order.\n",
        "As seen above, the M/F feature has the important impact on the model's prediction.\n",
        "Plus,The ASF and SES feature have  also a negligible impact on the output since the SHAP values are close to 0 ."
      ],
      "metadata": {
        "id": "FfxnRaNApehc"
      }
    },
    {
      "cell_type": "markdown",
      "source": [
        "# Conclusion\n",
        "\n",
        "According to all these classifiers' results, The M/F feature has the important impact on the predicted probability compared with the SES which has an negligible role for all classifiers."
      ],
      "metadata": {
        "id": "N6OM__0LvgFq"
      }
    }
  ],
  "metadata": {
    "colab": {
      "provenance": []
    },
    "kernelspec": {
      "display_name": "Python 3",
      "language": "python",
      "name": "python3"
    },
    "language_info": {
      "codemirror_mode": {
        "name": "ipython",
        "version": 3
      },
      "file_extension": ".py",
      "mimetype": "text/x-python",
      "name": "python",
      "nbconvert_exporter": "python",
      "pygments_lexer": "ipython3",
      "version": "3.7.0"
    },
    "widgets": {
      "application/vnd.jupyter.widget-state+json": {
        "a1929c87f55546fc92d422ea55f0360b": {
          "model_module": "@jupyter-widgets/controls",
          "model_name": "HBoxModel",
          "model_module_version": "1.5.0",
          "state": {
            "_dom_classes": [],
            "_model_module": "@jupyter-widgets/controls",
            "_model_module_version": "1.5.0",
            "_model_name": "HBoxModel",
            "_view_count": null,
            "_view_module": "@jupyter-widgets/controls",
            "_view_module_version": "1.5.0",
            "_view_name": "HBoxView",
            "box_style": "",
            "children": [
              "IPY_MODEL_abfdae654bc743e99dfde94bdb394a1e",
              "IPY_MODEL_3514eaab3e7c42eca25a237b8dd1fbe1",
              "IPY_MODEL_7143f58dda754d14ba83be3eea4240bf"
            ],
            "layout": "IPY_MODEL_af68c4e3f61f46368531537b16d3a497"
          }
        },
        "abfdae654bc743e99dfde94bdb394a1e": {
          "model_module": "@jupyter-widgets/controls",
          "model_name": "HTMLModel",
          "model_module_version": "1.5.0",
          "state": {
            "_dom_classes": [],
            "_model_module": "@jupyter-widgets/controls",
            "_model_module_version": "1.5.0",
            "_model_name": "HTMLModel",
            "_view_count": null,
            "_view_module": "@jupyter-widgets/controls",
            "_view_module_version": "1.5.0",
            "_view_name": "HTMLView",
            "description": "",
            "description_tooltip": null,
            "layout": "IPY_MODEL_8ba75d96adc64635af57ce9a010b189a",
            "placeholder": "​",
            "style": "IPY_MODEL_18797f5f68e44158bb1ccfdae2da78f7",
            "value": "100%"
          }
        },
        "3514eaab3e7c42eca25a237b8dd1fbe1": {
          "model_module": "@jupyter-widgets/controls",
          "model_name": "FloatProgressModel",
          "model_module_version": "1.5.0",
          "state": {
            "_dom_classes": [],
            "_model_module": "@jupyter-widgets/controls",
            "_model_module_version": "1.5.0",
            "_model_name": "FloatProgressModel",
            "_view_count": null,
            "_view_module": "@jupyter-widgets/controls",
            "_view_module_version": "1.5.0",
            "_view_name": "ProgressView",
            "bar_style": "success",
            "description": "",
            "description_tooltip": null,
            "layout": "IPY_MODEL_9b6258f2dbb843dca57d6d56b316c3c2",
            "max": 112,
            "min": 0,
            "orientation": "horizontal",
            "style": "IPY_MODEL_1988fed7e4e84ac58b166ae71ac92397",
            "value": 112
          }
        },
        "7143f58dda754d14ba83be3eea4240bf": {
          "model_module": "@jupyter-widgets/controls",
          "model_name": "HTMLModel",
          "model_module_version": "1.5.0",
          "state": {
            "_dom_classes": [],
            "_model_module": "@jupyter-widgets/controls",
            "_model_module_version": "1.5.0",
            "_model_name": "HTMLModel",
            "_view_count": null,
            "_view_module": "@jupyter-widgets/controls",
            "_view_module_version": "1.5.0",
            "_view_name": "HTMLView",
            "description": "",
            "description_tooltip": null,
            "layout": "IPY_MODEL_2b703334c94745e3ab9df48702efc802",
            "placeholder": "​",
            "style": "IPY_MODEL_9819e0b8ad54406b97142aea3156ff49",
            "value": " 112/112 [00:19&lt;00:00,  6.36it/s]"
          }
        },
        "af68c4e3f61f46368531537b16d3a497": {
          "model_module": "@jupyter-widgets/base",
          "model_name": "LayoutModel",
          "model_module_version": "1.2.0",
          "state": {
            "_model_module": "@jupyter-widgets/base",
            "_model_module_version": "1.2.0",
            "_model_name": "LayoutModel",
            "_view_count": null,
            "_view_module": "@jupyter-widgets/base",
            "_view_module_version": "1.2.0",
            "_view_name": "LayoutView",
            "align_content": null,
            "align_items": null,
            "align_self": null,
            "border": null,
            "bottom": null,
            "display": null,
            "flex": null,
            "flex_flow": null,
            "grid_area": null,
            "grid_auto_columns": null,
            "grid_auto_flow": null,
            "grid_auto_rows": null,
            "grid_column": null,
            "grid_gap": null,
            "grid_row": null,
            "grid_template_areas": null,
            "grid_template_columns": null,
            "grid_template_rows": null,
            "height": null,
            "justify_content": null,
            "justify_items": null,
            "left": null,
            "margin": null,
            "max_height": null,
            "max_width": null,
            "min_height": null,
            "min_width": null,
            "object_fit": null,
            "object_position": null,
            "order": null,
            "overflow": null,
            "overflow_x": null,
            "overflow_y": null,
            "padding": null,
            "right": null,
            "top": null,
            "visibility": null,
            "width": null
          }
        },
        "8ba75d96adc64635af57ce9a010b189a": {
          "model_module": "@jupyter-widgets/base",
          "model_name": "LayoutModel",
          "model_module_version": "1.2.0",
          "state": {
            "_model_module": "@jupyter-widgets/base",
            "_model_module_version": "1.2.0",
            "_model_name": "LayoutModel",
            "_view_count": null,
            "_view_module": "@jupyter-widgets/base",
            "_view_module_version": "1.2.0",
            "_view_name": "LayoutView",
            "align_content": null,
            "align_items": null,
            "align_self": null,
            "border": null,
            "bottom": null,
            "display": null,
            "flex": null,
            "flex_flow": null,
            "grid_area": null,
            "grid_auto_columns": null,
            "grid_auto_flow": null,
            "grid_auto_rows": null,
            "grid_column": null,
            "grid_gap": null,
            "grid_row": null,
            "grid_template_areas": null,
            "grid_template_columns": null,
            "grid_template_rows": null,
            "height": null,
            "justify_content": null,
            "justify_items": null,
            "left": null,
            "margin": null,
            "max_height": null,
            "max_width": null,
            "min_height": null,
            "min_width": null,
            "object_fit": null,
            "object_position": null,
            "order": null,
            "overflow": null,
            "overflow_x": null,
            "overflow_y": null,
            "padding": null,
            "right": null,
            "top": null,
            "visibility": null,
            "width": null
          }
        },
        "18797f5f68e44158bb1ccfdae2da78f7": {
          "model_module": "@jupyter-widgets/controls",
          "model_name": "DescriptionStyleModel",
          "model_module_version": "1.5.0",
          "state": {
            "_model_module": "@jupyter-widgets/controls",
            "_model_module_version": "1.5.0",
            "_model_name": "DescriptionStyleModel",
            "_view_count": null,
            "_view_module": "@jupyter-widgets/base",
            "_view_module_version": "1.2.0",
            "_view_name": "StyleView",
            "description_width": ""
          }
        },
        "9b6258f2dbb843dca57d6d56b316c3c2": {
          "model_module": "@jupyter-widgets/base",
          "model_name": "LayoutModel",
          "model_module_version": "1.2.0",
          "state": {
            "_model_module": "@jupyter-widgets/base",
            "_model_module_version": "1.2.0",
            "_model_name": "LayoutModel",
            "_view_count": null,
            "_view_module": "@jupyter-widgets/base",
            "_view_module_version": "1.2.0",
            "_view_name": "LayoutView",
            "align_content": null,
            "align_items": null,
            "align_self": null,
            "border": null,
            "bottom": null,
            "display": null,
            "flex": null,
            "flex_flow": null,
            "grid_area": null,
            "grid_auto_columns": null,
            "grid_auto_flow": null,
            "grid_auto_rows": null,
            "grid_column": null,
            "grid_gap": null,
            "grid_row": null,
            "grid_template_areas": null,
            "grid_template_columns": null,
            "grid_template_rows": null,
            "height": null,
            "justify_content": null,
            "justify_items": null,
            "left": null,
            "margin": null,
            "max_height": null,
            "max_width": null,
            "min_height": null,
            "min_width": null,
            "object_fit": null,
            "object_position": null,
            "order": null,
            "overflow": null,
            "overflow_x": null,
            "overflow_y": null,
            "padding": null,
            "right": null,
            "top": null,
            "visibility": null,
            "width": null
          }
        },
        "1988fed7e4e84ac58b166ae71ac92397": {
          "model_module": "@jupyter-widgets/controls",
          "model_name": "ProgressStyleModel",
          "model_module_version": "1.5.0",
          "state": {
            "_model_module": "@jupyter-widgets/controls",
            "_model_module_version": "1.5.0",
            "_model_name": "ProgressStyleModel",
            "_view_count": null,
            "_view_module": "@jupyter-widgets/base",
            "_view_module_version": "1.2.0",
            "_view_name": "StyleView",
            "bar_color": null,
            "description_width": ""
          }
        },
        "2b703334c94745e3ab9df48702efc802": {
          "model_module": "@jupyter-widgets/base",
          "model_name": "LayoutModel",
          "model_module_version": "1.2.0",
          "state": {
            "_model_module": "@jupyter-widgets/base",
            "_model_module_version": "1.2.0",
            "_model_name": "LayoutModel",
            "_view_count": null,
            "_view_module": "@jupyter-widgets/base",
            "_view_module_version": "1.2.0",
            "_view_name": "LayoutView",
            "align_content": null,
            "align_items": null,
            "align_self": null,
            "border": null,
            "bottom": null,
            "display": null,
            "flex": null,
            "flex_flow": null,
            "grid_area": null,
            "grid_auto_columns": null,
            "grid_auto_flow": null,
            "grid_auto_rows": null,
            "grid_column": null,
            "grid_gap": null,
            "grid_row": null,
            "grid_template_areas": null,
            "grid_template_columns": null,
            "grid_template_rows": null,
            "height": null,
            "justify_content": null,
            "justify_items": null,
            "left": null,
            "margin": null,
            "max_height": null,
            "max_width": null,
            "min_height": null,
            "min_width": null,
            "object_fit": null,
            "object_position": null,
            "order": null,
            "overflow": null,
            "overflow_x": null,
            "overflow_y": null,
            "padding": null,
            "right": null,
            "top": null,
            "visibility": null,
            "width": null
          }
        },
        "9819e0b8ad54406b97142aea3156ff49": {
          "model_module": "@jupyter-widgets/controls",
          "model_name": "DescriptionStyleModel",
          "model_module_version": "1.5.0",
          "state": {
            "_model_module": "@jupyter-widgets/controls",
            "_model_module_version": "1.5.0",
            "_model_name": "DescriptionStyleModel",
            "_view_count": null,
            "_view_module": "@jupyter-widgets/base",
            "_view_module_version": "1.2.0",
            "_view_name": "StyleView",
            "description_width": ""
          }
        },
        "49651dfe8ca34574a81fc63bc6378135": {
          "model_module": "@jupyter-widgets/controls",
          "model_name": "HBoxModel",
          "model_module_version": "1.5.0",
          "state": {
            "_dom_classes": [],
            "_model_module": "@jupyter-widgets/controls",
            "_model_module_version": "1.5.0",
            "_model_name": "HBoxModel",
            "_view_count": null,
            "_view_module": "@jupyter-widgets/controls",
            "_view_module_version": "1.5.0",
            "_view_name": "HBoxView",
            "box_style": "",
            "children": [
              "IPY_MODEL_40c7bb9393104a97b066b9a12fa85d9e",
              "IPY_MODEL_f73e3433ef704b769ec20d784ab0205e",
              "IPY_MODEL_10b6a748afb045b1b3e2b5c604e6f4bd"
            ],
            "layout": "IPY_MODEL_c14bbf428ea04b69bf3f55457ada27b7"
          }
        },
        "40c7bb9393104a97b066b9a12fa85d9e": {
          "model_module": "@jupyter-widgets/controls",
          "model_name": "HTMLModel",
          "model_module_version": "1.5.0",
          "state": {
            "_dom_classes": [],
            "_model_module": "@jupyter-widgets/controls",
            "_model_module_version": "1.5.0",
            "_model_name": "HTMLModel",
            "_view_count": null,
            "_view_module": "@jupyter-widgets/controls",
            "_view_module_version": "1.5.0",
            "_view_name": "HTMLView",
            "description": "",
            "description_tooltip": null,
            "layout": "IPY_MODEL_b94cf17a11b94dad882d293a1b3d7f77",
            "placeholder": "​",
            "style": "IPY_MODEL_2ae71d0fee0e430bb26b09025d008208",
            "value": "100%"
          }
        },
        "f73e3433ef704b769ec20d784ab0205e": {
          "model_module": "@jupyter-widgets/controls",
          "model_name": "FloatProgressModel",
          "model_module_version": "1.5.0",
          "state": {
            "_dom_classes": [],
            "_model_module": "@jupyter-widgets/controls",
            "_model_module_version": "1.5.0",
            "_model_name": "FloatProgressModel",
            "_view_count": null,
            "_view_module": "@jupyter-widgets/controls",
            "_view_module_version": "1.5.0",
            "_view_name": "ProgressView",
            "bar_style": "success",
            "description": "",
            "description_tooltip": null,
            "layout": "IPY_MODEL_35900744769e416696d6b4f0e270aa5c",
            "max": 112,
            "min": 0,
            "orientation": "horizontal",
            "style": "IPY_MODEL_14ebd50c196142039a650405306de2d5",
            "value": 112
          }
        },
        "10b6a748afb045b1b3e2b5c604e6f4bd": {
          "model_module": "@jupyter-widgets/controls",
          "model_name": "HTMLModel",
          "model_module_version": "1.5.0",
          "state": {
            "_dom_classes": [],
            "_model_module": "@jupyter-widgets/controls",
            "_model_module_version": "1.5.0",
            "_model_name": "HTMLModel",
            "_view_count": null,
            "_view_module": "@jupyter-widgets/controls",
            "_view_module_version": "1.5.0",
            "_view_name": "HTMLView",
            "description": "",
            "description_tooltip": null,
            "layout": "IPY_MODEL_542aa7cae8f9438d9f83d86f2691a254",
            "placeholder": "​",
            "style": "IPY_MODEL_a35ed3ad904e4253aae7880a0156368d",
            "value": " 112/112 [00:36&lt;00:00,  3.21it/s]"
          }
        },
        "c14bbf428ea04b69bf3f55457ada27b7": {
          "model_module": "@jupyter-widgets/base",
          "model_name": "LayoutModel",
          "model_module_version": "1.2.0",
          "state": {
            "_model_module": "@jupyter-widgets/base",
            "_model_module_version": "1.2.0",
            "_model_name": "LayoutModel",
            "_view_count": null,
            "_view_module": "@jupyter-widgets/base",
            "_view_module_version": "1.2.0",
            "_view_name": "LayoutView",
            "align_content": null,
            "align_items": null,
            "align_self": null,
            "border": null,
            "bottom": null,
            "display": null,
            "flex": null,
            "flex_flow": null,
            "grid_area": null,
            "grid_auto_columns": null,
            "grid_auto_flow": null,
            "grid_auto_rows": null,
            "grid_column": null,
            "grid_gap": null,
            "grid_row": null,
            "grid_template_areas": null,
            "grid_template_columns": null,
            "grid_template_rows": null,
            "height": null,
            "justify_content": null,
            "justify_items": null,
            "left": null,
            "margin": null,
            "max_height": null,
            "max_width": null,
            "min_height": null,
            "min_width": null,
            "object_fit": null,
            "object_position": null,
            "order": null,
            "overflow": null,
            "overflow_x": null,
            "overflow_y": null,
            "padding": null,
            "right": null,
            "top": null,
            "visibility": null,
            "width": null
          }
        },
        "b94cf17a11b94dad882d293a1b3d7f77": {
          "model_module": "@jupyter-widgets/base",
          "model_name": "LayoutModel",
          "model_module_version": "1.2.0",
          "state": {
            "_model_module": "@jupyter-widgets/base",
            "_model_module_version": "1.2.0",
            "_model_name": "LayoutModel",
            "_view_count": null,
            "_view_module": "@jupyter-widgets/base",
            "_view_module_version": "1.2.0",
            "_view_name": "LayoutView",
            "align_content": null,
            "align_items": null,
            "align_self": null,
            "border": null,
            "bottom": null,
            "display": null,
            "flex": null,
            "flex_flow": null,
            "grid_area": null,
            "grid_auto_columns": null,
            "grid_auto_flow": null,
            "grid_auto_rows": null,
            "grid_column": null,
            "grid_gap": null,
            "grid_row": null,
            "grid_template_areas": null,
            "grid_template_columns": null,
            "grid_template_rows": null,
            "height": null,
            "justify_content": null,
            "justify_items": null,
            "left": null,
            "margin": null,
            "max_height": null,
            "max_width": null,
            "min_height": null,
            "min_width": null,
            "object_fit": null,
            "object_position": null,
            "order": null,
            "overflow": null,
            "overflow_x": null,
            "overflow_y": null,
            "padding": null,
            "right": null,
            "top": null,
            "visibility": null,
            "width": null
          }
        },
        "2ae71d0fee0e430bb26b09025d008208": {
          "model_module": "@jupyter-widgets/controls",
          "model_name": "DescriptionStyleModel",
          "model_module_version": "1.5.0",
          "state": {
            "_model_module": "@jupyter-widgets/controls",
            "_model_module_version": "1.5.0",
            "_model_name": "DescriptionStyleModel",
            "_view_count": null,
            "_view_module": "@jupyter-widgets/base",
            "_view_module_version": "1.2.0",
            "_view_name": "StyleView",
            "description_width": ""
          }
        },
        "35900744769e416696d6b4f0e270aa5c": {
          "model_module": "@jupyter-widgets/base",
          "model_name": "LayoutModel",
          "model_module_version": "1.2.0",
          "state": {
            "_model_module": "@jupyter-widgets/base",
            "_model_module_version": "1.2.0",
            "_model_name": "LayoutModel",
            "_view_count": null,
            "_view_module": "@jupyter-widgets/base",
            "_view_module_version": "1.2.0",
            "_view_name": "LayoutView",
            "align_content": null,
            "align_items": null,
            "align_self": null,
            "border": null,
            "bottom": null,
            "display": null,
            "flex": null,
            "flex_flow": null,
            "grid_area": null,
            "grid_auto_columns": null,
            "grid_auto_flow": null,
            "grid_auto_rows": null,
            "grid_column": null,
            "grid_gap": null,
            "grid_row": null,
            "grid_template_areas": null,
            "grid_template_columns": null,
            "grid_template_rows": null,
            "height": null,
            "justify_content": null,
            "justify_items": null,
            "left": null,
            "margin": null,
            "max_height": null,
            "max_width": null,
            "min_height": null,
            "min_width": null,
            "object_fit": null,
            "object_position": null,
            "order": null,
            "overflow": null,
            "overflow_x": null,
            "overflow_y": null,
            "padding": null,
            "right": null,
            "top": null,
            "visibility": null,
            "width": null
          }
        },
        "14ebd50c196142039a650405306de2d5": {
          "model_module": "@jupyter-widgets/controls",
          "model_name": "ProgressStyleModel",
          "model_module_version": "1.5.0",
          "state": {
            "_model_module": "@jupyter-widgets/controls",
            "_model_module_version": "1.5.0",
            "_model_name": "ProgressStyleModel",
            "_view_count": null,
            "_view_module": "@jupyter-widgets/base",
            "_view_module_version": "1.2.0",
            "_view_name": "StyleView",
            "bar_color": null,
            "description_width": ""
          }
        },
        "542aa7cae8f9438d9f83d86f2691a254": {
          "model_module": "@jupyter-widgets/base",
          "model_name": "LayoutModel",
          "model_module_version": "1.2.0",
          "state": {
            "_model_module": "@jupyter-widgets/base",
            "_model_module_version": "1.2.0",
            "_model_name": "LayoutModel",
            "_view_count": null,
            "_view_module": "@jupyter-widgets/base",
            "_view_module_version": "1.2.0",
            "_view_name": "LayoutView",
            "align_content": null,
            "align_items": null,
            "align_self": null,
            "border": null,
            "bottom": null,
            "display": null,
            "flex": null,
            "flex_flow": null,
            "grid_area": null,
            "grid_auto_columns": null,
            "grid_auto_flow": null,
            "grid_auto_rows": null,
            "grid_column": null,
            "grid_gap": null,
            "grid_row": null,
            "grid_template_areas": null,
            "grid_template_columns": null,
            "grid_template_rows": null,
            "height": null,
            "justify_content": null,
            "justify_items": null,
            "left": null,
            "margin": null,
            "max_height": null,
            "max_width": null,
            "min_height": null,
            "min_width": null,
            "object_fit": null,
            "object_position": null,
            "order": null,
            "overflow": null,
            "overflow_x": null,
            "overflow_y": null,
            "padding": null,
            "right": null,
            "top": null,
            "visibility": null,
            "width": null
          }
        },
        "a35ed3ad904e4253aae7880a0156368d": {
          "model_module": "@jupyter-widgets/controls",
          "model_name": "DescriptionStyleModel",
          "model_module_version": "1.5.0",
          "state": {
            "_model_module": "@jupyter-widgets/controls",
            "_model_module_version": "1.5.0",
            "_model_name": "DescriptionStyleModel",
            "_view_count": null,
            "_view_module": "@jupyter-widgets/base",
            "_view_module_version": "1.2.0",
            "_view_name": "StyleView",
            "description_width": ""
          }
        },
        "0f04602e38a94d0a96fa4833e3f13989": {
          "model_module": "@jupyter-widgets/controls",
          "model_name": "HBoxModel",
          "model_module_version": "1.5.0",
          "state": {
            "_dom_classes": [],
            "_model_module": "@jupyter-widgets/controls",
            "_model_module_version": "1.5.0",
            "_model_name": "HBoxModel",
            "_view_count": null,
            "_view_module": "@jupyter-widgets/controls",
            "_view_module_version": "1.5.0",
            "_view_name": "HBoxView",
            "box_style": "",
            "children": [
              "IPY_MODEL_bd5889ac2d78450585b0ddf4e8c2dd61",
              "IPY_MODEL_70ebe7e6d41a4a2bb5c8c57445771590",
              "IPY_MODEL_028793443e334899a63f2194a5a4a06d"
            ],
            "layout": "IPY_MODEL_8a3fcbd0eefb48f2a00ce44b42628beb"
          }
        },
        "bd5889ac2d78450585b0ddf4e8c2dd61": {
          "model_module": "@jupyter-widgets/controls",
          "model_name": "HTMLModel",
          "model_module_version": "1.5.0",
          "state": {
            "_dom_classes": [],
            "_model_module": "@jupyter-widgets/controls",
            "_model_module_version": "1.5.0",
            "_model_name": "HTMLModel",
            "_view_count": null,
            "_view_module": "@jupyter-widgets/controls",
            "_view_module_version": "1.5.0",
            "_view_name": "HTMLView",
            "description": "",
            "description_tooltip": null,
            "layout": "IPY_MODEL_25c2fe7302bf4427b30694a1a45ba74c",
            "placeholder": "​",
            "style": "IPY_MODEL_3562c71cb8174867b34c5747d2e91220",
            "value": "100%"
          }
        },
        "70ebe7e6d41a4a2bb5c8c57445771590": {
          "model_module": "@jupyter-widgets/controls",
          "model_name": "FloatProgressModel",
          "model_module_version": "1.5.0",
          "state": {
            "_dom_classes": [],
            "_model_module": "@jupyter-widgets/controls",
            "_model_module_version": "1.5.0",
            "_model_name": "FloatProgressModel",
            "_view_count": null,
            "_view_module": "@jupyter-widgets/controls",
            "_view_module_version": "1.5.0",
            "_view_name": "ProgressView",
            "bar_style": "success",
            "description": "",
            "description_tooltip": null,
            "layout": "IPY_MODEL_6fdfb71348114a569f1121f905999f0d",
            "max": 112,
            "min": 0,
            "orientation": "horizontal",
            "style": "IPY_MODEL_294355719ae74cf091d45d76ae998157",
            "value": 112
          }
        },
        "028793443e334899a63f2194a5a4a06d": {
          "model_module": "@jupyter-widgets/controls",
          "model_name": "HTMLModel",
          "model_module_version": "1.5.0",
          "state": {
            "_dom_classes": [],
            "_model_module": "@jupyter-widgets/controls",
            "_model_module_version": "1.5.0",
            "_model_name": "HTMLModel",
            "_view_count": null,
            "_view_module": "@jupyter-widgets/controls",
            "_view_module_version": "1.5.0",
            "_view_name": "HTMLView",
            "description": "",
            "description_tooltip": null,
            "layout": "IPY_MODEL_042878ac4f9f41c68ff68bded940fb81",
            "placeholder": "​",
            "style": "IPY_MODEL_20cd3bf3b42f4d709075e9ce0a912732",
            "value": " 112/112 [00:28&lt;00:00,  3.87it/s]"
          }
        },
        "8a3fcbd0eefb48f2a00ce44b42628beb": {
          "model_module": "@jupyter-widgets/base",
          "model_name": "LayoutModel",
          "model_module_version": "1.2.0",
          "state": {
            "_model_module": "@jupyter-widgets/base",
            "_model_module_version": "1.2.0",
            "_model_name": "LayoutModel",
            "_view_count": null,
            "_view_module": "@jupyter-widgets/base",
            "_view_module_version": "1.2.0",
            "_view_name": "LayoutView",
            "align_content": null,
            "align_items": null,
            "align_self": null,
            "border": null,
            "bottom": null,
            "display": null,
            "flex": null,
            "flex_flow": null,
            "grid_area": null,
            "grid_auto_columns": null,
            "grid_auto_flow": null,
            "grid_auto_rows": null,
            "grid_column": null,
            "grid_gap": null,
            "grid_row": null,
            "grid_template_areas": null,
            "grid_template_columns": null,
            "grid_template_rows": null,
            "height": null,
            "justify_content": null,
            "justify_items": null,
            "left": null,
            "margin": null,
            "max_height": null,
            "max_width": null,
            "min_height": null,
            "min_width": null,
            "object_fit": null,
            "object_position": null,
            "order": null,
            "overflow": null,
            "overflow_x": null,
            "overflow_y": null,
            "padding": null,
            "right": null,
            "top": null,
            "visibility": null,
            "width": null
          }
        },
        "25c2fe7302bf4427b30694a1a45ba74c": {
          "model_module": "@jupyter-widgets/base",
          "model_name": "LayoutModel",
          "model_module_version": "1.2.0",
          "state": {
            "_model_module": "@jupyter-widgets/base",
            "_model_module_version": "1.2.0",
            "_model_name": "LayoutModel",
            "_view_count": null,
            "_view_module": "@jupyter-widgets/base",
            "_view_module_version": "1.2.0",
            "_view_name": "LayoutView",
            "align_content": null,
            "align_items": null,
            "align_self": null,
            "border": null,
            "bottom": null,
            "display": null,
            "flex": null,
            "flex_flow": null,
            "grid_area": null,
            "grid_auto_columns": null,
            "grid_auto_flow": null,
            "grid_auto_rows": null,
            "grid_column": null,
            "grid_gap": null,
            "grid_row": null,
            "grid_template_areas": null,
            "grid_template_columns": null,
            "grid_template_rows": null,
            "height": null,
            "justify_content": null,
            "justify_items": null,
            "left": null,
            "margin": null,
            "max_height": null,
            "max_width": null,
            "min_height": null,
            "min_width": null,
            "object_fit": null,
            "object_position": null,
            "order": null,
            "overflow": null,
            "overflow_x": null,
            "overflow_y": null,
            "padding": null,
            "right": null,
            "top": null,
            "visibility": null,
            "width": null
          }
        },
        "3562c71cb8174867b34c5747d2e91220": {
          "model_module": "@jupyter-widgets/controls",
          "model_name": "DescriptionStyleModel",
          "model_module_version": "1.5.0",
          "state": {
            "_model_module": "@jupyter-widgets/controls",
            "_model_module_version": "1.5.0",
            "_model_name": "DescriptionStyleModel",
            "_view_count": null,
            "_view_module": "@jupyter-widgets/base",
            "_view_module_version": "1.2.0",
            "_view_name": "StyleView",
            "description_width": ""
          }
        },
        "6fdfb71348114a569f1121f905999f0d": {
          "model_module": "@jupyter-widgets/base",
          "model_name": "LayoutModel",
          "model_module_version": "1.2.0",
          "state": {
            "_model_module": "@jupyter-widgets/base",
            "_model_module_version": "1.2.0",
            "_model_name": "LayoutModel",
            "_view_count": null,
            "_view_module": "@jupyter-widgets/base",
            "_view_module_version": "1.2.0",
            "_view_name": "LayoutView",
            "align_content": null,
            "align_items": null,
            "align_self": null,
            "border": null,
            "bottom": null,
            "display": null,
            "flex": null,
            "flex_flow": null,
            "grid_area": null,
            "grid_auto_columns": null,
            "grid_auto_flow": null,
            "grid_auto_rows": null,
            "grid_column": null,
            "grid_gap": null,
            "grid_row": null,
            "grid_template_areas": null,
            "grid_template_columns": null,
            "grid_template_rows": null,
            "height": null,
            "justify_content": null,
            "justify_items": null,
            "left": null,
            "margin": null,
            "max_height": null,
            "max_width": null,
            "min_height": null,
            "min_width": null,
            "object_fit": null,
            "object_position": null,
            "order": null,
            "overflow": null,
            "overflow_x": null,
            "overflow_y": null,
            "padding": null,
            "right": null,
            "top": null,
            "visibility": null,
            "width": null
          }
        },
        "294355719ae74cf091d45d76ae998157": {
          "model_module": "@jupyter-widgets/controls",
          "model_name": "ProgressStyleModel",
          "model_module_version": "1.5.0",
          "state": {
            "_model_module": "@jupyter-widgets/controls",
            "_model_module_version": "1.5.0",
            "_model_name": "ProgressStyleModel",
            "_view_count": null,
            "_view_module": "@jupyter-widgets/base",
            "_view_module_version": "1.2.0",
            "_view_name": "StyleView",
            "bar_color": null,
            "description_width": ""
          }
        },
        "042878ac4f9f41c68ff68bded940fb81": {
          "model_module": "@jupyter-widgets/base",
          "model_name": "LayoutModel",
          "model_module_version": "1.2.0",
          "state": {
            "_model_module": "@jupyter-widgets/base",
            "_model_module_version": "1.2.0",
            "_model_name": "LayoutModel",
            "_view_count": null,
            "_view_module": "@jupyter-widgets/base",
            "_view_module_version": "1.2.0",
            "_view_name": "LayoutView",
            "align_content": null,
            "align_items": null,
            "align_self": null,
            "border": null,
            "bottom": null,
            "display": null,
            "flex": null,
            "flex_flow": null,
            "grid_area": null,
            "grid_auto_columns": null,
            "grid_auto_flow": null,
            "grid_auto_rows": null,
            "grid_column": null,
            "grid_gap": null,
            "grid_row": null,
            "grid_template_areas": null,
            "grid_template_columns": null,
            "grid_template_rows": null,
            "height": null,
            "justify_content": null,
            "justify_items": null,
            "left": null,
            "margin": null,
            "max_height": null,
            "max_width": null,
            "min_height": null,
            "min_width": null,
            "object_fit": null,
            "object_position": null,
            "order": null,
            "overflow": null,
            "overflow_x": null,
            "overflow_y": null,
            "padding": null,
            "right": null,
            "top": null,
            "visibility": null,
            "width": null
          }
        },
        "20cd3bf3b42f4d709075e9ce0a912732": {
          "model_module": "@jupyter-widgets/controls",
          "model_name": "DescriptionStyleModel",
          "model_module_version": "1.5.0",
          "state": {
            "_model_module": "@jupyter-widgets/controls",
            "_model_module_version": "1.5.0",
            "_model_name": "DescriptionStyleModel",
            "_view_count": null,
            "_view_module": "@jupyter-widgets/base",
            "_view_module_version": "1.2.0",
            "_view_name": "StyleView",
            "description_width": ""
          }
        },
        "de719ee73b7f4e5dadb94e1d5841f16d": {
          "model_module": "@jupyter-widgets/controls",
          "model_name": "HBoxModel",
          "model_module_version": "1.5.0",
          "state": {
            "_dom_classes": [],
            "_model_module": "@jupyter-widgets/controls",
            "_model_module_version": "1.5.0",
            "_model_name": "HBoxModel",
            "_view_count": null,
            "_view_module": "@jupyter-widgets/controls",
            "_view_module_version": "1.5.0",
            "_view_name": "HBoxView",
            "box_style": "",
            "children": [
              "IPY_MODEL_e44598d4402b4575b08979dd780b30fc",
              "IPY_MODEL_ddc64b119d14429f8d8479c62662bb74",
              "IPY_MODEL_83319891b3ae483c973a68905ca81e27"
            ],
            "layout": "IPY_MODEL_3466e3c03b8647cd8f798db9b52f9608"
          }
        },
        "e44598d4402b4575b08979dd780b30fc": {
          "model_module": "@jupyter-widgets/controls",
          "model_name": "HTMLModel",
          "model_module_version": "1.5.0",
          "state": {
            "_dom_classes": [],
            "_model_module": "@jupyter-widgets/controls",
            "_model_module_version": "1.5.0",
            "_model_name": "HTMLModel",
            "_view_count": null,
            "_view_module": "@jupyter-widgets/controls",
            "_view_module_version": "1.5.0",
            "_view_name": "HTMLView",
            "description": "",
            "description_tooltip": null,
            "layout": "IPY_MODEL_f5d96933374844e88c5bb185fb2eaf9b",
            "placeholder": "​",
            "style": "IPY_MODEL_59285a8d5b9849a1bda8bed70c7bb3a1",
            "value": "100%"
          }
        },
        "ddc64b119d14429f8d8479c62662bb74": {
          "model_module": "@jupyter-widgets/controls",
          "model_name": "FloatProgressModel",
          "model_module_version": "1.5.0",
          "state": {
            "_dom_classes": [],
            "_model_module": "@jupyter-widgets/controls",
            "_model_module_version": "1.5.0",
            "_model_name": "FloatProgressModel",
            "_view_count": null,
            "_view_module": "@jupyter-widgets/controls",
            "_view_module_version": "1.5.0",
            "_view_name": "ProgressView",
            "bar_style": "success",
            "description": "",
            "description_tooltip": null,
            "layout": "IPY_MODEL_f0795a1cc7854eff975848d99678174c",
            "max": 112,
            "min": 0,
            "orientation": "horizontal",
            "style": "IPY_MODEL_b9a4a9a770a1498fb29ef707ee7b30ed",
            "value": 112
          }
        },
        "83319891b3ae483c973a68905ca81e27": {
          "model_module": "@jupyter-widgets/controls",
          "model_name": "HTMLModel",
          "model_module_version": "1.5.0",
          "state": {
            "_dom_classes": [],
            "_model_module": "@jupyter-widgets/controls",
            "_model_module_version": "1.5.0",
            "_model_name": "HTMLModel",
            "_view_count": null,
            "_view_module": "@jupyter-widgets/controls",
            "_view_module_version": "1.5.0",
            "_view_name": "HTMLView",
            "description": "",
            "description_tooltip": null,
            "layout": "IPY_MODEL_7e7d225edc854dd09b3d9bfe66eeaca0",
            "placeholder": "​",
            "style": "IPY_MODEL_dbcd0af6e17649ca8e5dd5fb74f7dcea",
            "value": " 112/112 [02:40&lt;00:00,  1.47s/it]"
          }
        },
        "3466e3c03b8647cd8f798db9b52f9608": {
          "model_module": "@jupyter-widgets/base",
          "model_name": "LayoutModel",
          "model_module_version": "1.2.0",
          "state": {
            "_model_module": "@jupyter-widgets/base",
            "_model_module_version": "1.2.0",
            "_model_name": "LayoutModel",
            "_view_count": null,
            "_view_module": "@jupyter-widgets/base",
            "_view_module_version": "1.2.0",
            "_view_name": "LayoutView",
            "align_content": null,
            "align_items": null,
            "align_self": null,
            "border": null,
            "bottom": null,
            "display": null,
            "flex": null,
            "flex_flow": null,
            "grid_area": null,
            "grid_auto_columns": null,
            "grid_auto_flow": null,
            "grid_auto_rows": null,
            "grid_column": null,
            "grid_gap": null,
            "grid_row": null,
            "grid_template_areas": null,
            "grid_template_columns": null,
            "grid_template_rows": null,
            "height": null,
            "justify_content": null,
            "justify_items": null,
            "left": null,
            "margin": null,
            "max_height": null,
            "max_width": null,
            "min_height": null,
            "min_width": null,
            "object_fit": null,
            "object_position": null,
            "order": null,
            "overflow": null,
            "overflow_x": null,
            "overflow_y": null,
            "padding": null,
            "right": null,
            "top": null,
            "visibility": null,
            "width": null
          }
        },
        "f5d96933374844e88c5bb185fb2eaf9b": {
          "model_module": "@jupyter-widgets/base",
          "model_name": "LayoutModel",
          "model_module_version": "1.2.0",
          "state": {
            "_model_module": "@jupyter-widgets/base",
            "_model_module_version": "1.2.0",
            "_model_name": "LayoutModel",
            "_view_count": null,
            "_view_module": "@jupyter-widgets/base",
            "_view_module_version": "1.2.0",
            "_view_name": "LayoutView",
            "align_content": null,
            "align_items": null,
            "align_self": null,
            "border": null,
            "bottom": null,
            "display": null,
            "flex": null,
            "flex_flow": null,
            "grid_area": null,
            "grid_auto_columns": null,
            "grid_auto_flow": null,
            "grid_auto_rows": null,
            "grid_column": null,
            "grid_gap": null,
            "grid_row": null,
            "grid_template_areas": null,
            "grid_template_columns": null,
            "grid_template_rows": null,
            "height": null,
            "justify_content": null,
            "justify_items": null,
            "left": null,
            "margin": null,
            "max_height": null,
            "max_width": null,
            "min_height": null,
            "min_width": null,
            "object_fit": null,
            "object_position": null,
            "order": null,
            "overflow": null,
            "overflow_x": null,
            "overflow_y": null,
            "padding": null,
            "right": null,
            "top": null,
            "visibility": null,
            "width": null
          }
        },
        "59285a8d5b9849a1bda8bed70c7bb3a1": {
          "model_module": "@jupyter-widgets/controls",
          "model_name": "DescriptionStyleModel",
          "model_module_version": "1.5.0",
          "state": {
            "_model_module": "@jupyter-widgets/controls",
            "_model_module_version": "1.5.0",
            "_model_name": "DescriptionStyleModel",
            "_view_count": null,
            "_view_module": "@jupyter-widgets/base",
            "_view_module_version": "1.2.0",
            "_view_name": "StyleView",
            "description_width": ""
          }
        },
        "f0795a1cc7854eff975848d99678174c": {
          "model_module": "@jupyter-widgets/base",
          "model_name": "LayoutModel",
          "model_module_version": "1.2.0",
          "state": {
            "_model_module": "@jupyter-widgets/base",
            "_model_module_version": "1.2.0",
            "_model_name": "LayoutModel",
            "_view_count": null,
            "_view_module": "@jupyter-widgets/base",
            "_view_module_version": "1.2.0",
            "_view_name": "LayoutView",
            "align_content": null,
            "align_items": null,
            "align_self": null,
            "border": null,
            "bottom": null,
            "display": null,
            "flex": null,
            "flex_flow": null,
            "grid_area": null,
            "grid_auto_columns": null,
            "grid_auto_flow": null,
            "grid_auto_rows": null,
            "grid_column": null,
            "grid_gap": null,
            "grid_row": null,
            "grid_template_areas": null,
            "grid_template_columns": null,
            "grid_template_rows": null,
            "height": null,
            "justify_content": null,
            "justify_items": null,
            "left": null,
            "margin": null,
            "max_height": null,
            "max_width": null,
            "min_height": null,
            "min_width": null,
            "object_fit": null,
            "object_position": null,
            "order": null,
            "overflow": null,
            "overflow_x": null,
            "overflow_y": null,
            "padding": null,
            "right": null,
            "top": null,
            "visibility": null,
            "width": null
          }
        },
        "b9a4a9a770a1498fb29ef707ee7b30ed": {
          "model_module": "@jupyter-widgets/controls",
          "model_name": "ProgressStyleModel",
          "model_module_version": "1.5.0",
          "state": {
            "_model_module": "@jupyter-widgets/controls",
            "_model_module_version": "1.5.0",
            "_model_name": "ProgressStyleModel",
            "_view_count": null,
            "_view_module": "@jupyter-widgets/base",
            "_view_module_version": "1.2.0",
            "_view_name": "StyleView",
            "bar_color": null,
            "description_width": ""
          }
        },
        "7e7d225edc854dd09b3d9bfe66eeaca0": {
          "model_module": "@jupyter-widgets/base",
          "model_name": "LayoutModel",
          "model_module_version": "1.2.0",
          "state": {
            "_model_module": "@jupyter-widgets/base",
            "_model_module_version": "1.2.0",
            "_model_name": "LayoutModel",
            "_view_count": null,
            "_view_module": "@jupyter-widgets/base",
            "_view_module_version": "1.2.0",
            "_view_name": "LayoutView",
            "align_content": null,
            "align_items": null,
            "align_self": null,
            "border": null,
            "bottom": null,
            "display": null,
            "flex": null,
            "flex_flow": null,
            "grid_area": null,
            "grid_auto_columns": null,
            "grid_auto_flow": null,
            "grid_auto_rows": null,
            "grid_column": null,
            "grid_gap": null,
            "grid_row": null,
            "grid_template_areas": null,
            "grid_template_columns": null,
            "grid_template_rows": null,
            "height": null,
            "justify_content": null,
            "justify_items": null,
            "left": null,
            "margin": null,
            "max_height": null,
            "max_width": null,
            "min_height": null,
            "min_width": null,
            "object_fit": null,
            "object_position": null,
            "order": null,
            "overflow": null,
            "overflow_x": null,
            "overflow_y": null,
            "padding": null,
            "right": null,
            "top": null,
            "visibility": null,
            "width": null
          }
        },
        "dbcd0af6e17649ca8e5dd5fb74f7dcea": {
          "model_module": "@jupyter-widgets/controls",
          "model_name": "DescriptionStyleModel",
          "model_module_version": "1.5.0",
          "state": {
            "_model_module": "@jupyter-widgets/controls",
            "_model_module_version": "1.5.0",
            "_model_name": "DescriptionStyleModel",
            "_view_count": null,
            "_view_module": "@jupyter-widgets/base",
            "_view_module_version": "1.2.0",
            "_view_name": "StyleView",
            "description_width": ""
          }
        }
      }
    }
  },
  "nbformat": 4,
  "nbformat_minor": 0
}